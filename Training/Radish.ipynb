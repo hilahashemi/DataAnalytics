{
 "metadata": {
  "name": "",
  "signature": "sha256:efbc917d6ffb2ffda09a5f67c4d7b50774310253bd24be0b064df91dbc9d0da2"
 },
 "nbformat": 3,
 "nbformat_minor": 0,
 "worksheets": [
  {
   "cells": [
    {
     "cell_type": "code",
     "collapsed": false,
     "input": [
      "print(\"Hello World\")"
     ],
     "language": "python",
     "metadata": {},
     "outputs": [
      {
       "output_type": "stream",
       "stream": "stdout",
       "text": [
        "Hello World\n"
       ]
      }
     ],
     "prompt_number": 1
    },
    {
     "cell_type": "code",
     "collapsed": false,
     "input": [
      "%load \"shopping_list.ipynb\""
     ],
     "language": "python",
     "metadata": {},
     "outputs": [],
     "prompt_number": 2
    },
    {
     "cell_type": "code",
     "collapsed": false,
     "input": [
      "{\n",
      " \"metadata\": {\n",
      "  \"name\": \"shopping_list\"\n",
      " },\n",
      " \"nbformat\": 3,\n",
      " \"nbformat_minor\": 0,\n",
      " \"worksheets\": [\n",
      "  {\n",
      "   \"cells\": [\n",
      "    {\n",
      "     \"cell_type\": \"code\",\n",
      "     \"collapsed\": false,\n",
      "     \"input\": \"shopping_list = [ \\\"bananas\\\", \\\"carrots\\\", \\\"tea\\\" ]\",\n",
      "     \"language\": \"python\",\n",
      "     \"metadata\": {},\n",
      "     \"outputs\": [],\n",
      "     \"prompt_number\": 6\n",
      "    },\n",
      "    {\n",
      "     \"cell_type\": \"code\",\n",
      "     \"collapsed\": false,\n",
      "     \"input\": \"print(shopping_list)\",\n",
      "     \"language\": \"python\",\n",
      "     \"metadata\": {},\n",
      "     \"outputs\": [\n",
      "      {\n",
      "       \"output_type\": \"stream\",\n",
      "       \"stream\": \"stdout\",\n",
      "       \"text\": \"['bananas', 'carrots', 'tea']\\n\"\n",
      "      }\n",
      "     ],\n",
      "     \"prompt_number\": 7\n",
      "    },\n",
      "    {\n",
      "     \"cell_type\": \"code\",\n",
      "     \"collapsed\": false,\n",
      "     \"input\": \"if \\\"bananas\\\" in shopping_list:\\n    print(\\\"Don't forget to get the bananas!\\\")\",\n",
      "     \"language\": \"python\",\n",
      "     \"metadata\": {},\n",
      "     \"outputs\": [\n",
      "      {\n",
      "       \"output_type\": \"stream\",\n",
      "       \"stream\": \"stdout\",\n",
      "       \"text\": \"Don't forget to get the bananas!\\n\"\n",
      "      }\n",
      "     ],\n",
      "     \"prompt_number\": 8\n",
      "    },\n",
      "    {\n",
      "     \"cell_type\": \"markdown\",\n",
      "     \"metadata\": {},\n",
      "     \"source\": \"## Things to try\\n\\n* Change the first cell to add different items to the shopping_list. Rerun the second and third cells to see the differences in out.\\n\\n* \"\n",
      "    }\n",
      "   ],\n",
      "   \"metadata\": {}\n",
      "  }\n",
      " ]\n",
      "}"
     ],
     "language": "python",
     "metadata": {},
     "outputs": []
    },
    {
     "cell_type": "code",
     "collapsed": false,
     "input": [
      "%run \"shopping_list.ipynb\""
     ],
     "language": "python",
     "metadata": {},
     "outputs": [
      {
       "output_type": "stream",
       "stream": "stdout",
       "text": [
        "['bananas', 'carrots', 'tea']\n",
        "Don't forget to get the bananas!\n"
       ]
      }
     ],
     "prompt_number": 3
    },
    {
     "cell_type": "code",
     "collapsed": false,
     "input": [
      "f = open(\"months.txt\")"
     ],
     "language": "python",
     "metadata": {},
     "outputs": [],
     "prompt_number": 4
    },
    {
     "cell_type": "code",
     "collapsed": false,
     "input": [
      "print(f.read())"
     ],
     "language": "python",
     "metadata": {},
     "outputs": [
      {
       "output_type": "stream",
       "stream": "stdout",
       "text": [
        "January\n",
        "February\n",
        "March\n",
        "April\n",
        "May\n",
        "June\n",
        "July\n",
        "August\n",
        "September\n",
        "October\n",
        "November\n",
        "December\n",
        "\n"
       ]
      }
     ],
     "prompt_number": 5
    },
    {
     "cell_type": "code",
     "collapsed": false,
     "input": [
      "next = f.read(1)"
     ],
     "language": "python",
     "metadata": {},
     "outputs": [],
     "prompt_number": 6
    },
    {
     "cell_type": "code",
     "collapsed": false,
     "input": [
      "next"
     ],
     "language": "python",
     "metadata": {},
     "outputs": [
      {
       "metadata": {},
       "output_type": "pyout",
       "prompt_number": 7,
       "text": [
        "''"
       ]
      }
     ],
     "prompt_number": 7
    },
    {
     "cell_type": "code",
     "collapsed": false,
     "input": [
      "while next != \"\":"
     ],
     "language": "python",
     "metadata": {},
     "outputs": [
      {
       "ename": "SyntaxError",
       "evalue": "unexpected EOF while parsing (<ipython-input-8-2df5f94be0ed>, line 1)",
       "output_type": "pyerr",
       "traceback": [
        "\u001b[0;36m  File \u001b[0;32m\"<ipython-input-8-2df5f94be0ed>\"\u001b[0;36m, line \u001b[0;32m1\u001b[0m\n\u001b[0;31m    while next != \"\":\u001b[0m\n\u001b[0m                     ^\u001b[0m\n\u001b[0;31mSyntaxError\u001b[0m\u001b[0;31m:\u001b[0m unexpected EOF while parsing\n"
       ]
      }
     ],
     "prompt_number": 8
    },
    {
     "cell_type": "code",
     "collapsed": false,
     "input": [
      "while next != \"\":\n",
      "    print(next)\n",
      "    next=f.read(1)"
     ],
     "language": "python",
     "metadata": {},
     "outputs": [],
     "prompt_number": 9
    },
    {
     "cell_type": "code",
     "collapsed": false,
     "input": [
      "f = open(\"months.txt\")\n",
      "next = f.read(1)\n",
      "while next != \"\":\n",
      "    print(next)\n",
      "    next = f.read(1)"
     ],
     "language": "python",
     "metadata": {},
     "outputs": [
      {
       "output_type": "stream",
       "stream": "stdout",
       "text": [
        "J\n",
        "a\n",
        "n\n",
        "u\n",
        "a\n",
        "r\n",
        "y\n",
        "\n",
        "\n",
        "F\n",
        "e\n",
        "b\n",
        "r\n",
        "u\n",
        "a\n",
        "r\n",
        "y\n",
        "\n",
        "\n",
        "M\n",
        "a\n",
        "r\n",
        "c\n",
        "h\n",
        "\n",
        "\n",
        "A\n",
        "p\n",
        "r\n",
        "i\n",
        "l\n",
        "\n",
        "\n",
        "M\n",
        "a\n",
        "y\n",
        "\n",
        "\n",
        "J\n",
        "u\n",
        "n\n",
        "e\n",
        "\n",
        "\n",
        "J\n",
        "u\n",
        "l\n",
        "y\n",
        "\n",
        "\n",
        "A\n",
        "u\n",
        "g\n",
        "u\n",
        "s\n",
        "t\n",
        "\n",
        "\n",
        "S\n",
        "e\n",
        "p\n",
        "t\n",
        "e\n",
        "m\n",
        "b\n",
        "e\n",
        "r\n",
        "\n",
        "\n",
        "O\n",
        "c\n",
        "t\n",
        "o\n",
        "b\n",
        "e\n",
        "r\n",
        "\n",
        "\n",
        "N\n",
        "o\n",
        "v\n",
        "e\n",
        "m\n",
        "b\n",
        "e\n",
        "r\n",
        "\n",
        "\n",
        "D\n",
        "e\n",
        "c\n",
        "e\n",
        "m\n",
        "b\n",
        "e\n",
        "r\n",
        "\n",
        "\n"
       ]
      }
     ],
     "prompt_number": 10
    },
    {
     "cell_type": "code",
     "collapsed": false,
     "input": [
      "f = open(\"months.txt\")\n",
      "next = f.read(3)\n",
      "while next != \"\":\n",
      "    print(next)\n",
      "    next = f.read(3)"
     ],
     "language": "python",
     "metadata": {},
     "outputs": [
      {
       "output_type": "stream",
       "stream": "stdout",
       "text": [
        "Jan\n",
        "uar\n",
        "y\n",
        "F\n",
        "ebr\n",
        "uar\n",
        "y\n",
        "M\n",
        "arc\n",
        "h\n",
        "A\n",
        "pri\n",
        "l\n",
        "M\n",
        "ay\n",
        "\n",
        "Jun\n",
        "e\n",
        "J\n",
        "uly\n",
        "\n",
        "Au\n",
        "gus\n",
        "t\n",
        "S\n",
        "ept\n",
        "emb\n",
        "er\n",
        "\n",
        "Oct\n",
        "obe\n",
        "r\n",
        "N\n",
        "ove\n",
        "mbe\n",
        "r\n",
        "D\n",
        "ece\n",
        "mbe\n",
        "r\n",
        "\n"
       ]
      }
     ],
     "prompt_number": 11
    },
    {
     "cell_type": "code",
     "collapsed": false,
     "input": [
      "f = open(\"months.txt\")\n",
      "next = f.readline(1)\n",
      "while next != \"\":\n",
      "    print(next)\n",
      "    next = f.readline(1)"
     ],
     "language": "python",
     "metadata": {},
     "outputs": [
      {
       "output_type": "stream",
       "stream": "stdout",
       "text": [
        "J\n",
        "a\n",
        "n\n",
        "u\n",
        "a\n",
        "r\n",
        "y\n",
        "\n",
        "\n",
        "F\n",
        "e\n",
        "b\n",
        "r\n",
        "u\n",
        "a\n",
        "r\n",
        "y\n",
        "\n",
        "\n",
        "M\n",
        "a\n",
        "r\n",
        "c\n",
        "h\n",
        "\n",
        "\n",
        "A\n",
        "p\n",
        "r\n",
        "i\n",
        "l\n",
        "\n",
        "\n",
        "M\n",
        "a\n",
        "y\n",
        "\n",
        "\n",
        "J\n",
        "u\n",
        "n\n",
        "e\n",
        "\n",
        "\n",
        "J\n",
        "u\n",
        "l\n",
        "y\n",
        "\n",
        "\n",
        "A\n",
        "u\n",
        "g\n",
        "u\n",
        "s\n",
        "t\n",
        "\n",
        "\n",
        "S\n",
        "e\n",
        "p\n",
        "t\n",
        "e\n",
        "m\n",
        "b\n",
        "e\n",
        "r\n",
        "\n",
        "\n",
        "O\n",
        "c\n",
        "t\n",
        "o\n",
        "b\n",
        "e\n",
        "r\n",
        "\n",
        "\n",
        "N\n",
        "o\n",
        "v\n",
        "e\n",
        "m\n",
        "b\n",
        "e\n",
        "r\n",
        "\n",
        "\n",
        "D\n",
        "e\n",
        "c\n",
        "e\n",
        "m\n",
        "b\n",
        "e\n",
        "r\n",
        "\n",
        "\n"
       ]
      }
     ],
     "prompt_number": 12
    },
    {
     "cell_type": "code",
     "collapsed": false,
     "input": [
      "f = open(\"months.txt\")\n",
      "next = f.readline()\n",
      "while next != \"\":\n",
      "    print(next)\n",
      "    next = f.readline()"
     ],
     "language": "python",
     "metadata": {},
     "outputs": [
      {
       "output_type": "stream",
       "stream": "stdout",
       "text": [
        "January\n",
        "\n",
        "February\n",
        "\n",
        "March\n",
        "\n",
        "April\n",
        "\n",
        "May\n",
        "\n",
        "June\n",
        "\n",
        "July\n",
        "\n",
        "August\n",
        "\n",
        "September\n",
        "\n",
        "October\n",
        "\n",
        "November\n",
        "\n",
        "December\n",
        "\n"
       ]
      }
     ],
     "prompt_number": 13
    },
    {
     "cell_type": "code",
     "collapsed": false,
     "input": [
      "f = open(\"months.txt\")\n",
      "for month in f.readlines():\n",
      "   print(\"Month \" + month.strip())"
     ],
     "language": "python",
     "metadata": {},
     "outputs": [
      {
       "output_type": "stream",
       "stream": "stdout",
       "text": [
        "Month January\n",
        "Month February\n",
        "Month March\n",
        "Month April\n",
        "Month May\n",
        "Month June\n",
        "Month July\n",
        "Month August\n",
        "Month September\n",
        "Month October\n",
        "Month November\n",
        "Month December\n"
       ]
      }
     ],
     "prompt_number": 14
    },
    {
     "cell_type": "code",
     "collapsed": false,
     "input": [
      "f = open(\"months.txt\")\n",
      "for month in f.readlines():\n",
      "   print(\"Month \" + month)"
     ],
     "language": "python",
     "metadata": {},
     "outputs": [
      {
       "output_type": "stream",
       "stream": "stdout",
       "text": [
        "Month January\n",
        "\n",
        "Month February\n",
        "\n",
        "Month March\n",
        "\n",
        "Month April\n",
        "\n",
        "Month May\n",
        "\n",
        "Month June\n",
        "\n",
        "Month July\n",
        "\n",
        "Month August\n",
        "\n",
        "Month September\n",
        "\n",
        "Month October\n",
        "\n",
        "Month November\n",
        "\n",
        "Month December\n",
        "\n"
       ]
      }
     ],
     "prompt_number": 15
    },
    {
     "cell_type": "code",
     "collapsed": false,
     "input": [
      "f = open(\"awesomenewfile.txt\", \"w\")\n",
      "f?"
     ],
     "language": "python",
     "metadata": {},
     "outputs": [],
     "prompt_number": 16
    },
    {
     "cell_type": "code",
     "collapsed": false,
     "input": [
      "f."
     ],
     "language": "python",
     "metadata": {},
     "outputs": [
      {
       "ename": "SyntaxError",
       "evalue": "invalid syntax (<ipython-input-17-4f0dd52d028c>, line 1)",
       "output_type": "pyerr",
       "traceback": [
        "\u001b[0;36m  File \u001b[0;32m\"<ipython-input-17-4f0dd52d028c>\"\u001b[0;36m, line \u001b[0;32m1\u001b[0m\n\u001b[0;31m    f.\u001b[0m\n\u001b[0m      ^\u001b[0m\n\u001b[0;31mSyntaxError\u001b[0m\u001b[0;31m:\u001b[0m invalid syntax\n"
       ]
      }
     ],
     "prompt_number": 17
    },
    {
     "cell_type": "code",
     "collapsed": false,
     "input": [
      "f.name"
     ],
     "language": "python",
     "metadata": {},
     "outputs": [
      {
       "metadata": {},
       "output_type": "pyout",
       "prompt_number": 18,
       "text": [
        "'awesomenewfile.txt'"
       ]
      }
     ],
     "prompt_number": 18
    },
    {
     "cell_type": "code",
     "collapsed": false,
     "input": [
      "f = open(\"awesomenewfile.txt\", \"w\")\n",
      "f.write(\"Awesome message!\")\n",
      "f.close()"
     ],
     "language": "python",
     "metadata": {},
     "outputs": [],
     "prompt_number": 19
    },
    {
     "cell_type": "code",
     "collapsed": false,
     "input": [
      "print(f)"
     ],
     "language": "python",
     "metadata": {},
     "outputs": [
      {
       "output_type": "stream",
       "stream": "stdout",
       "text": [
        "<closed file 'awesomenewfile.txt', mode 'w' at 0x104b3e6f0>\n"
       ]
      }
     ],
     "prompt_number": 20
    },
    {
     "cell_type": "code",
     "collapsed": false,
     "input": [
      "print(f.readlines())"
     ],
     "language": "python",
     "metadata": {},
     "outputs": [
      {
       "ename": "ValueError",
       "evalue": "I/O operation on closed file",
       "output_type": "pyerr",
       "traceback": [
        "\u001b[0;31m---------------------------------------------------------------------------\u001b[0m\n\u001b[0;31mValueError\u001b[0m                                Traceback (most recent call last)",
        "\u001b[0;32m<ipython-input-21-43750fc81235>\u001b[0m in \u001b[0;36m<module>\u001b[0;34m()\u001b[0m\n\u001b[0;32m----> 1\u001b[0;31m \u001b[0;32mprint\u001b[0m\u001b[0;34m(\u001b[0m\u001b[0mf\u001b[0m\u001b[0;34m.\u001b[0m\u001b[0mreadlines\u001b[0m\u001b[0;34m(\u001b[0m\u001b[0;34m)\u001b[0m\u001b[0;34m)\u001b[0m\u001b[0;34m\u001b[0m\u001b[0m\n\u001b[0m",
        "\u001b[0;31mValueError\u001b[0m: I/O operation on closed file"
       ]
      }
     ],
     "prompt_number": 21
    },
    {
     "cell_type": "code",
     "collapsed": false,
     "input": [
      "f(1)"
     ],
     "language": "python",
     "metadata": {},
     "outputs": [
      {
       "ename": "TypeError",
       "evalue": "'file' object is not callable",
       "output_type": "pyerr",
       "traceback": [
        "\u001b[0;31m---------------------------------------------------------------------------\u001b[0m\n\u001b[0;31mTypeError\u001b[0m                                 Traceback (most recent call last)",
        "\u001b[0;32m<ipython-input-22-90b61b657670>\u001b[0m in \u001b[0;36m<module>\u001b[0;34m()\u001b[0m\n\u001b[0;32m----> 1\u001b[0;31m \u001b[0mf\u001b[0m\u001b[0;34m(\u001b[0m\u001b[0;36m1\u001b[0m\u001b[0;34m)\u001b[0m\u001b[0;34m\u001b[0m\u001b[0m\n\u001b[0m",
        "\u001b[0;31mTypeError\u001b[0m: 'file' object is not callable"
       ]
      }
     ],
     "prompt_number": 22
    },
    {
     "cell_type": "code",
     "collapsed": false,
     "input": [
      "f = open(\"awesomenewfile.txt\")\n",
      "print(f.readlines())"
     ],
     "language": "python",
     "metadata": {},
     "outputs": [
      {
       "output_type": "stream",
       "stream": "stdout",
       "text": [
        "['Awesome message!']\n"
       ]
      }
     ],
     "prompt_number": 23
    },
    {
     "cell_type": "code",
     "collapsed": false,
     "input": [
      "f = open(\"awesomenewfile.txt\", \"w\")\n",
      "f.write(\"\\n hahahaha\")"
     ],
     "language": "python",
     "metadata": {},
     "outputs": [],
     "prompt_number": 24
    },
    {
     "cell_type": "code",
     "collapsed": false,
     "input": [
      "f.close()\n",
      "f = open(\"awesomenewfile.txt\")\n",
      "print(f.readlines())"
     ],
     "language": "python",
     "metadata": {},
     "outputs": [
      {
       "output_type": "stream",
       "stream": "stdout",
       "text": [
        "['\\n', ' hahahaha']\n"
       ]
      }
     ],
     "prompt_number": 25
    },
    {
     "cell_type": "code",
     "collapsed": false,
     "input": [
      "f.close\n",
      "f = open(\"awesomenewfile.txt\", \"w\", \"a\")\n",
      "f.write(\"Awesome message!\\n\")"
     ],
     "language": "python",
     "metadata": {},
     "outputs": [
      {
       "ename": "TypeError",
       "evalue": "an integer is required",
       "output_type": "pyerr",
       "traceback": [
        "\u001b[0;31m---------------------------------------------------------------------------\u001b[0m\n\u001b[0;31mTypeError\u001b[0m                                 Traceback (most recent call last)",
        "\u001b[0;32m<ipython-input-26-569afecadc55>\u001b[0m in \u001b[0;36m<module>\u001b[0;34m()\u001b[0m\n\u001b[1;32m      1\u001b[0m \u001b[0mf\u001b[0m\u001b[0;34m.\u001b[0m\u001b[0mclose\u001b[0m\u001b[0;34m\u001b[0m\u001b[0m\n\u001b[0;32m----> 2\u001b[0;31m \u001b[0mf\u001b[0m \u001b[0;34m=\u001b[0m \u001b[0mopen\u001b[0m\u001b[0;34m(\u001b[0m\u001b[0;34m\"awesomenewfile.txt\"\u001b[0m\u001b[0;34m,\u001b[0m \u001b[0;34m\"w\"\u001b[0m\u001b[0;34m,\u001b[0m \u001b[0;34m\"a\"\u001b[0m\u001b[0;34m)\u001b[0m\u001b[0;34m\u001b[0m\u001b[0m\n\u001b[0m\u001b[1;32m      3\u001b[0m \u001b[0mf\u001b[0m\u001b[0;34m.\u001b[0m\u001b[0mwrite\u001b[0m\u001b[0;34m(\u001b[0m\u001b[0;34m\"Awesome message!\\n\"\u001b[0m\u001b[0;34m)\u001b[0m\u001b[0;34m\u001b[0m\u001b[0m\n",
        "\u001b[0;31mTypeError\u001b[0m: an integer is required"
       ]
      }
     ],
     "prompt_number": 26
    },
    {
     "cell_type": "code",
     "collapsed": false,
     "input": [
      "f.close\n",
      "f = open(\"awesomenewfile.txt\", \"w\"+\"a\")\n",
      "f.write(\"Awesome message!\\n\")\n",
      "f.append(\"HAHAHAHA!\\n\")\n",
      "f.append(\"YOU MONKEY!\")\n",
      "f.close()\n",
      "f = open(\"awesomenewfile.txt\")\n",
      "print(f.readlines())"
     ],
     "language": "python",
     "metadata": {},
     "outputs": [
      {
       "ename": "AttributeError",
       "evalue": "'file' object has no attribute 'append'",
       "output_type": "pyerr",
       "traceback": [
        "\u001b[0;31m---------------------------------------------------------------------------\u001b[0m\n\u001b[0;31mAttributeError\u001b[0m                            Traceback (most recent call last)",
        "\u001b[0;32m<ipython-input-27-9c0fbc3f5a87>\u001b[0m in \u001b[0;36m<module>\u001b[0;34m()\u001b[0m\n\u001b[1;32m      2\u001b[0m \u001b[0mf\u001b[0m \u001b[0;34m=\u001b[0m \u001b[0mopen\u001b[0m\u001b[0;34m(\u001b[0m\u001b[0;34m\"awesomenewfile.txt\"\u001b[0m\u001b[0;34m,\u001b[0m \u001b[0;34m\"w\"\u001b[0m\u001b[0;34m+\u001b[0m\u001b[0;34m\"a\"\u001b[0m\u001b[0;34m)\u001b[0m\u001b[0;34m\u001b[0m\u001b[0m\n\u001b[1;32m      3\u001b[0m \u001b[0mf\u001b[0m\u001b[0;34m.\u001b[0m\u001b[0mwrite\u001b[0m\u001b[0;34m(\u001b[0m\u001b[0;34m\"Awesome message!\\n\"\u001b[0m\u001b[0;34m)\u001b[0m\u001b[0;34m\u001b[0m\u001b[0m\n\u001b[0;32m----> 4\u001b[0;31m \u001b[0mf\u001b[0m\u001b[0;34m.\u001b[0m\u001b[0mappend\u001b[0m\u001b[0;34m(\u001b[0m\u001b[0;34m\"HAHAHAHA!\\n\"\u001b[0m\u001b[0;34m)\u001b[0m\u001b[0;34m\u001b[0m\u001b[0m\n\u001b[0m\u001b[1;32m      5\u001b[0m \u001b[0mf\u001b[0m\u001b[0;34m.\u001b[0m\u001b[0mappend\u001b[0m\u001b[0;34m(\u001b[0m\u001b[0;34m\"YOU MONKEY!\"\u001b[0m\u001b[0;34m)\u001b[0m\u001b[0;34m\u001b[0m\u001b[0m\n\u001b[1;32m      6\u001b[0m \u001b[0mf\u001b[0m\u001b[0;34m.\u001b[0m\u001b[0mclose\u001b[0m\u001b[0;34m(\u001b[0m\u001b[0;34m)\u001b[0m\u001b[0;34m\u001b[0m\u001b[0m\n",
        "\u001b[0;31mAttributeError\u001b[0m: 'file' object has no attribute 'append'"
       ]
      }
     ],
     "prompt_number": 27
    },
    {
     "cell_type": "code",
     "collapsed": false,
     "input": [
      "f = open(\"hila.txt\", \"r\"+\"w\"+\"a\")"
     ],
     "language": "python",
     "metadata": {},
     "outputs": [],
     "prompt_number": 28
    },
    {
     "cell_type": "code",
     "collapsed": false,
     "input": [
      "print(f.readlines())"
     ],
     "language": "python",
     "metadata": {},
     "outputs": [
      {
       "output_type": "stream",
       "stream": "stdout",
       "text": [
        "['Hila is beautiful!\\n', 'Ioan is beautiful!\\n', 'Hila is more beautiful though!\\n', 'HAHAHAHAHAHA']\n"
       ]
      }
     ],
     "prompt_number": 29
    },
    {
     "cell_type": "code",
     "collapsed": false,
     "input": [
      "hilalist = f.readlines())"
     ],
     "language": "python",
     "metadata": {},
     "outputs": [
      {
       "ename": "SyntaxError",
       "evalue": "invalid syntax (<ipython-input-30-9c7cdcddc2ee>, line 1)",
       "output_type": "pyerr",
       "traceback": [
        "\u001b[0;36m  File \u001b[0;32m\"<ipython-input-30-9c7cdcddc2ee>\"\u001b[0;36m, line \u001b[0;32m1\u001b[0m\n\u001b[0;31m    hilalist = f.readlines())\u001b[0m\n\u001b[0m                            ^\u001b[0m\n\u001b[0;31mSyntaxError\u001b[0m\u001b[0;31m:\u001b[0m invalid syntax\n"
       ]
      }
     ],
     "prompt_number": 30
    },
    {
     "cell_type": "code",
     "collapsed": false,
     "input": [
      "hilalist = f.readlines()"
     ],
     "language": "python",
     "metadata": {},
     "outputs": [],
     "prompt_number": 31
    },
    {
     "cell_type": "code",
     "collapsed": false,
     "input": [
      "hilamum = hilalist + \"YA mum!\""
     ],
     "language": "python",
     "metadata": {},
     "outputs": [
      {
       "ename": "TypeError",
       "evalue": "can only concatenate list (not \"str\") to list",
       "output_type": "pyerr",
       "traceback": [
        "\u001b[0;31m---------------------------------------------------------------------------\u001b[0m\n\u001b[0;31mTypeError\u001b[0m                                 Traceback (most recent call last)",
        "\u001b[0;32m<ipython-input-32-8e4e12265f58>\u001b[0m in \u001b[0;36m<module>\u001b[0;34m()\u001b[0m\n\u001b[0;32m----> 1\u001b[0;31m \u001b[0mhilamum\u001b[0m \u001b[0;34m=\u001b[0m \u001b[0mhilalist\u001b[0m \u001b[0;34m+\u001b[0m \u001b[0;34m\"YA mum!\"\u001b[0m\u001b[0;34m\u001b[0m\u001b[0m\n\u001b[0m",
        "\u001b[0;31mTypeError\u001b[0m: can only concatenate list (not \"str\") to list"
       ]
      }
     ],
     "prompt_number": 32
    },
    {
     "cell_type": "code",
     "collapsed": false,
     "input": [
      "for item in hilalist:\n",
      "    f.write(item + \"YA MUM!\")"
     ],
     "language": "python",
     "metadata": {},
     "outputs": [],
     "prompt_number": 33
    },
    {
     "cell_type": "code",
     "collapsed": false,
     "input": [
      "print(f.readlines())"
     ],
     "language": "python",
     "metadata": {},
     "outputs": [
      {
       "output_type": "stream",
       "stream": "stdout",
       "text": [
        "[]\n"
       ]
      }
     ],
     "prompt_number": 34
    },
    {
     "cell_type": "code",
     "collapsed": false,
     "input": [
      "f.close()"
     ],
     "language": "python",
     "metadata": {},
     "outputs": [],
     "prompt_number": 35
    },
    {
     "cell_type": "code",
     "collapsed": false,
     "input": [
      "f = open(\"hila.txt\", \"r\"+\"w\"+\"a\")\n",
      "print(f.readlines())"
     ],
     "language": "python",
     "metadata": {},
     "outputs": [
      {
       "output_type": "stream",
       "stream": "stdout",
       "text": [
        "['Hila is beautiful!\\n', 'Ioan is beautiful!\\n', 'Hila is more beautiful though!\\n', 'HAHAHAHAHAHA']\n"
       ]
      }
     ],
     "prompt_number": 36
    },
    {
     "cell_type": "raw",
     "metadata": {},
     "source": [
      "f.write(\"Hello!\\n\")"
     ]
    },
    {
     "cell_type": "code",
     "collapsed": false,
     "input": [
      "f.close()"
     ],
     "language": "python",
     "metadata": {},
     "outputs": [],
     "prompt_number": 37
    },
    {
     "cell_type": "code",
     "collapsed": false,
     "input": [
      "f = open(\"hila.txt\", \"r\"+\"w\"+\"a\")\n",
      "print(f.readlines())"
     ],
     "language": "python",
     "metadata": {},
     "outputs": [
      {
       "output_type": "stream",
       "stream": "stdout",
       "text": [
        "['Hila is beautiful!\\n', 'Ioan is beautiful!\\n', 'Hila is more beautiful though!\\n', 'HAHAHAHAHAHA']\n"
       ]
      }
     ],
     "prompt_number": 38
    },
    {
     "cell_type": "code",
     "collapsed": false,
     "input": [
      "f = open(\"hila.txt\", \"w\")\n",
      "f.write(\"Hello!\\n\")\n",
      "f.close()"
     ],
     "language": "python",
     "metadata": {},
     "outputs": [],
     "prompt_number": 39
    },
    {
     "cell_type": "code",
     "collapsed": false,
     "input": [
      "f = open(\"hila.txt\", \"a\")\n",
      "f.append(\"Hello Bitch!\\n\")\n",
      "f.close()"
     ],
     "language": "python",
     "metadata": {},
     "outputs": [
      {
       "ename": "AttributeError",
       "evalue": "'file' object has no attribute 'append'",
       "output_type": "pyerr",
       "traceback": [
        "\u001b[0;31m---------------------------------------------------------------------------\u001b[0m\n\u001b[0;31mAttributeError\u001b[0m                            Traceback (most recent call last)",
        "\u001b[0;32m<ipython-input-40-11de80c99dd4>\u001b[0m in \u001b[0;36m<module>\u001b[0;34m()\u001b[0m\n\u001b[1;32m      1\u001b[0m \u001b[0mf\u001b[0m \u001b[0;34m=\u001b[0m \u001b[0mopen\u001b[0m\u001b[0;34m(\u001b[0m\u001b[0;34m\"hila.txt\"\u001b[0m\u001b[0;34m,\u001b[0m \u001b[0;34m\"a\"\u001b[0m\u001b[0;34m)\u001b[0m\u001b[0;34m\u001b[0m\u001b[0m\n\u001b[0;32m----> 2\u001b[0;31m \u001b[0mf\u001b[0m\u001b[0;34m.\u001b[0m\u001b[0mappend\u001b[0m\u001b[0;34m(\u001b[0m\u001b[0;34m\"Hello Bitch!\\n\"\u001b[0m\u001b[0;34m)\u001b[0m\u001b[0;34m\u001b[0m\u001b[0m\n\u001b[0m\u001b[1;32m      3\u001b[0m \u001b[0mf\u001b[0m\u001b[0;34m.\u001b[0m\u001b[0mclose\u001b[0m\u001b[0;34m(\u001b[0m\u001b[0;34m)\u001b[0m\u001b[0;34m\u001b[0m\u001b[0m\n",
        "\u001b[0;31mAttributeError\u001b[0m: 'file' object has no attribute 'append'"
       ]
      }
     ],
     "prompt_number": 40
    },
    {
     "cell_type": "code",
     "collapsed": false,
     "input": [
      "f.newlines?"
     ],
     "language": "python",
     "metadata": {},
     "outputs": [],
     "prompt_number": 41
    },
    {
     "cell_type": "code",
     "collapsed": false,
     "input": [
      "f.?"
     ],
     "language": "python",
     "metadata": {},
     "outputs": [
      {
       "ename": "SyntaxError",
       "evalue": "invalid syntax (<ipython-input-42-af2a6ea7430f>, line 1)",
       "output_type": "pyerr",
       "traceback": [
        "\u001b[0;36m  File \u001b[0;32m\"<ipython-input-42-af2a6ea7430f>\"\u001b[0;36m, line \u001b[0;32m1\u001b[0m\n\u001b[0;31m    f.?\u001b[0m\n\u001b[0m      ^\u001b[0m\n\u001b[0;31mSyntaxError\u001b[0m\u001b[0;31m:\u001b[0m invalid syntax\n"
       ]
      }
     ],
     "prompt_number": 42
    },
    {
     "cell_type": "code",
     "collapsed": false,
     "input": [
      "f?"
     ],
     "language": "python",
     "metadata": {},
     "outputs": [],
     "prompt_number": 43
    },
    {
     "cell_type": "code",
     "collapsed": false,
     "input": [
      "for line in open(\"radishsurvey.txt\"):\n",
      "    line = line.strip()\n",
      "    parts = line.split(sep = \"-\")"
     ],
     "language": "python",
     "metadata": {},
     "outputs": [
      {
       "ename": "IOError",
       "evalue": "[Errno 2] No such file or directory: 'radishsurvey.txt'",
       "output_type": "pyerr",
       "traceback": [
        "\u001b[0;31m---------------------------------------------------------------------------\u001b[0m\n\u001b[0;31mIOError\u001b[0m                                   Traceback (most recent call last)",
        "\u001b[0;32m<ipython-input-44-5eb326018813>\u001b[0m in \u001b[0;36m<module>\u001b[0;34m()\u001b[0m\n\u001b[0;32m----> 1\u001b[0;31m \u001b[0;32mfor\u001b[0m \u001b[0mline\u001b[0m \u001b[0;32min\u001b[0m \u001b[0mopen\u001b[0m\u001b[0;34m(\u001b[0m\u001b[0;34m\"radishsurvey.txt\"\u001b[0m\u001b[0;34m)\u001b[0m\u001b[0;34m:\u001b[0m\u001b[0;34m\u001b[0m\u001b[0m\n\u001b[0m\u001b[1;32m      2\u001b[0m     \u001b[0mline\u001b[0m \u001b[0;34m=\u001b[0m \u001b[0mline\u001b[0m\u001b[0;34m.\u001b[0m\u001b[0mstrip\u001b[0m\u001b[0;34m(\u001b[0m\u001b[0;34m)\u001b[0m\u001b[0;34m\u001b[0m\u001b[0m\n\u001b[1;32m      3\u001b[0m     \u001b[0mparts\u001b[0m \u001b[0;34m=\u001b[0m \u001b[0mline\u001b[0m\u001b[0;34m.\u001b[0m\u001b[0msplit\u001b[0m\u001b[0;34m(\u001b[0m\u001b[0msep\u001b[0m \u001b[0;34m=\u001b[0m \u001b[0;34m\"-\"\u001b[0m\u001b[0;34m)\u001b[0m\u001b[0;34m\u001b[0m\u001b[0m\n",
        "\u001b[0;31mIOError\u001b[0m: [Errno 2] No such file or directory: 'radishsurvey.txt'"
       ]
      }
     ],
     "prompt_number": 44
    },
    {
     "cell_type": "code",
     "collapsed": false,
     "input": [
      "for line in open(\"hila.txt\"):\n",
      "    line = line.strip()\n",
      "    parts = line.split(sep = \"-\")"
     ],
     "language": "python",
     "metadata": {},
     "outputs": [
      {
       "ename": "TypeError",
       "evalue": "split() takes no keyword arguments",
       "output_type": "pyerr",
       "traceback": [
        "\u001b[0;31m---------------------------------------------------------------------------\u001b[0m\n\u001b[0;31mTypeError\u001b[0m                                 Traceback (most recent call last)",
        "\u001b[0;32m<ipython-input-45-02cc2b5c3b3b>\u001b[0m in \u001b[0;36m<module>\u001b[0;34m()\u001b[0m\n\u001b[1;32m      1\u001b[0m \u001b[0;32mfor\u001b[0m \u001b[0mline\u001b[0m \u001b[0;32min\u001b[0m \u001b[0mopen\u001b[0m\u001b[0;34m(\u001b[0m\u001b[0;34m\"hila.txt\"\u001b[0m\u001b[0;34m)\u001b[0m\u001b[0;34m:\u001b[0m\u001b[0;34m\u001b[0m\u001b[0m\n\u001b[1;32m      2\u001b[0m     \u001b[0mline\u001b[0m \u001b[0;34m=\u001b[0m \u001b[0mline\u001b[0m\u001b[0;34m.\u001b[0m\u001b[0mstrip\u001b[0m\u001b[0;34m(\u001b[0m\u001b[0;34m)\u001b[0m\u001b[0;34m\u001b[0m\u001b[0m\n\u001b[0;32m----> 3\u001b[0;31m     \u001b[0mparts\u001b[0m \u001b[0;34m=\u001b[0m \u001b[0mline\u001b[0m\u001b[0;34m.\u001b[0m\u001b[0msplit\u001b[0m\u001b[0;34m(\u001b[0m\u001b[0msep\u001b[0m \u001b[0;34m=\u001b[0m \u001b[0;34m\"-\"\u001b[0m\u001b[0;34m)\u001b[0m\u001b[0;34m\u001b[0m\u001b[0m\n\u001b[0m",
        "\u001b[0;31mTypeError\u001b[0m: split() takes no keyword arguments"
       ]
      }
     ],
     "prompt_number": 45
    },
    {
     "cell_type": "code",
     "collapsed": false,
     "input": [
      "for line in open(\"radishsurvey.txt\"):\n",
      "    line = line.strip()\n",
      "    parts = line.split(\"-\")"
     ],
     "language": "python",
     "metadata": {},
     "outputs": [
      {
       "ename": "IOError",
       "evalue": "[Errno 2] No such file or directory: 'radishsurvey.txt'",
       "output_type": "pyerr",
       "traceback": [
        "\u001b[0;31m---------------------------------------------------------------------------\u001b[0m\n\u001b[0;31mIOError\u001b[0m                                   Traceback (most recent call last)",
        "\u001b[0;32m<ipython-input-46-1d7a5054a300>\u001b[0m in \u001b[0;36m<module>\u001b[0;34m()\u001b[0m\n\u001b[0;32m----> 1\u001b[0;31m \u001b[0;32mfor\u001b[0m \u001b[0mline\u001b[0m \u001b[0;32min\u001b[0m \u001b[0mopen\u001b[0m\u001b[0;34m(\u001b[0m\u001b[0;34m\"radishsurvey.txt\"\u001b[0m\u001b[0;34m)\u001b[0m\u001b[0;34m:\u001b[0m\u001b[0;34m\u001b[0m\u001b[0m\n\u001b[0m\u001b[1;32m      2\u001b[0m     \u001b[0mline\u001b[0m \u001b[0;34m=\u001b[0m \u001b[0mline\u001b[0m\u001b[0;34m.\u001b[0m\u001b[0mstrip\u001b[0m\u001b[0;34m(\u001b[0m\u001b[0;34m)\u001b[0m\u001b[0;34m\u001b[0m\u001b[0m\n\u001b[1;32m      3\u001b[0m     \u001b[0mparts\u001b[0m \u001b[0;34m=\u001b[0m \u001b[0mline\u001b[0m\u001b[0;34m.\u001b[0m\u001b[0msplit\u001b[0m\u001b[0;34m(\u001b[0m\u001b[0;34m\"-\"\u001b[0m\u001b[0;34m)\u001b[0m\u001b[0;34m\u001b[0m\u001b[0m\n",
        "\u001b[0;31mIOError\u001b[0m: [Errno 2] No such file or directory: 'radishsurvey.txt'"
       ]
      }
     ],
     "prompt_number": 46
    },
    {
     "cell_type": "code",
     "collapsed": false,
     "input": [
      "for line in open(\"hila.txt\"):\n",
      "    line = line.strip()\n",
      "    parts = line.split(\"-\")"
     ],
     "language": "python",
     "metadata": {},
     "outputs": [],
     "prompt_number": 47
    },
    {
     "cell_type": "code",
     "collapsed": false,
     "input": [
      "for line in open(\"hila.txt\"):\n",
      "    line = line.strip()\n",
      "    parts = line.split(\"-\")\n",
      "    if parts[1] = \"White Icicle\":\n",
      "        print(parts[0])"
     ],
     "language": "python",
     "metadata": {},
     "outputs": [
      {
       "ename": "SyntaxError",
       "evalue": "invalid syntax (<ipython-input-48-5f48b83fdfee>, line 4)",
       "output_type": "pyerr",
       "traceback": [
        "\u001b[0;36m  File \u001b[0;32m\"<ipython-input-48-5f48b83fdfee>\"\u001b[0;36m, line \u001b[0;32m4\u001b[0m\n\u001b[0;31m    if parts[1] = \"White Icicle\":\u001b[0m\n\u001b[0m                ^\u001b[0m\n\u001b[0;31mSyntaxError\u001b[0m\u001b[0;31m:\u001b[0m invalid syntax\n"
       ]
      }
     ],
     "prompt_number": 48
    },
    {
     "cell_type": "code",
     "collapsed": false,
     "input": [
      "for line in open(\"hila.txt\"):\n",
      "    line = line.strip()\n",
      "    parts = line.split(\"-\")\n",
      "    if parts[1] == \"White Icicle\":\n",
      "        print(parts[0])"
     ],
     "language": "python",
     "metadata": {},
     "outputs": [],
     "prompt_number": 49
    },
    {
     "cell_type": "code",
     "collapsed": false,
     "input": [
      "for line in open(\"hila.txt\"):\n",
      "    line = line.strip()\n",
      "    parts = line.split(\"-\")\n",
      "    if parts[1] == \"White Icicle\":\n",
      "        print(parts[0])"
     ],
     "language": "python",
     "metadata": {},
     "outputs": [],
     "prompt_number": 50
    },
    {
     "cell_type": "code",
     "collapsed": false,
     "input": [
      "for line in open(\"hila.txt\"):\n",
      "    line = line.strip()\n",
      "    parts = line.split(\" - \")\n",
      "    if parts[1] == \"White Icicle\":\n",
      "        print(parts[0])"
     ],
     "language": "python",
     "metadata": {},
     "outputs": [
      {
       "output_type": "stream",
       "stream": "stdout",
       "text": [
        "Luke Komine\n",
        "Bailey Derrington\n",
        "Tyler Forbes\n",
        "Gianfranco Cremonesi\n",
        "Tao Hsiao\n",
        "Emily Walters\n",
        "Thomas Oom\n",
        "Stephanie Schnaars\n",
        "Anna Denning\n",
        "Ruby Fox\n",
        "Ali Dedman\n",
        "Sarah Milford\n",
        "Hudson Dodgshun\n",
        "Lara Salting\n",
        "Amelie Farber\n",
        "Isabella Pardey\n",
        "Zhi Chin\n",
        "Caitlyn Mullah\n",
        "Taj Shackell\n",
        "Xin Qian Shih\n",
        "Abigail Clark\n",
        "Bianca Knopwood\n",
        "Mia Legg\n",
        "Lilian Macquarie\n",
        "Zachary Bass\n",
        "Hayley Coverdale\n",
        "David Moynihan\n",
        "Angus De Mestre\n",
        "Emily Plante\n",
        "Kiara Maxwell-Mahon\n",
        "Alex Falk\n",
        "George Carandini\n",
        "Makayla Fairbairn\n",
        "Yue Wan Yeh\n",
        "Timothy Beeton\n",
        "Blake Hurst\n",
        "Zhen Juan Tsai\n",
        "Christopher Moss\n",
        "Alicia Farmer\n",
        "Jasmine Baughan\n",
        "Dominic Nangle\n",
        "Yue Yan Hu\n",
        "Adele Buccho\n",
        "Archie Mathy\n",
        "Pia Folliero\n",
        "Koby Ledger\n",
        "Jasper Harper\n",
        "Patrick Tilly\n",
        "Isabelle Camden\n",
        "Amy Clunie\n",
        "Declan Winston\n",
        "James Luke\n",
        "Riley Stewart\n",
        "Rory Evenden\n",
        "Eleuterio Lombardo\n",
        "Yong Hsiao\n",
        "Toby Queale\n",
        "Jasper Alfred\n",
        "Durante Ferri\n"
       ]
      }
     ],
     "prompt_number": 51
    },
    {
     "cell_type": "code",
     "collapsed": false,
     "input": [
      "count = 0\n",
      "for line in open(\"hila.txt\"):\n",
      "    line = line.strip()\n",
      "    parts = line.split(\" - \")\n",
      "    if parts[1] == \"White Icicle\":\n",
      "        print(parts[0])\n",
      "        count = count + 1\n",
      "print(count)"
     ],
     "language": "python",
     "metadata": {},
     "outputs": [
      {
       "output_type": "stream",
       "stream": "stdout",
       "text": [
        "Luke Komine\n",
        "Bailey Derrington\n",
        "Tyler Forbes\n",
        "Gianfranco Cremonesi\n",
        "Tao Hsiao\n",
        "Emily Walters\n",
        "Thomas Oom\n",
        "Stephanie Schnaars\n",
        "Anna Denning\n",
        "Ruby Fox\n",
        "Ali Dedman\n",
        "Sarah Milford\n",
        "Hudson Dodgshun\n",
        "Lara Salting\n",
        "Amelie Farber\n",
        "Isabella Pardey\n",
        "Zhi Chin\n",
        "Caitlyn Mullah\n",
        "Taj Shackell\n",
        "Xin Qian Shih\n",
        "Abigail Clark\n",
        "Bianca Knopwood\n",
        "Mia Legg\n",
        "Lilian Macquarie\n",
        "Zachary Bass\n",
        "Hayley Coverdale\n",
        "David Moynihan\n",
        "Angus De Mestre\n",
        "Emily Plante\n",
        "Kiara Maxwell-Mahon\n",
        "Alex Falk\n",
        "George Carandini\n",
        "Makayla Fairbairn\n",
        "Yue Wan Yeh\n",
        "Timothy Beeton\n",
        "Blake Hurst\n",
        "Zhen Juan Tsai\n",
        "Christopher Moss\n",
        "Alicia Farmer\n",
        "Jasmine Baughan\n",
        "Dominic Nangle\n",
        "Yue Yan Hu\n",
        "Adele Buccho\n",
        "Archie Mathy\n",
        "Pia Folliero\n",
        "Koby Ledger\n",
        "Jasper Harper\n",
        "Patrick Tilly\n",
        "Isabelle Camden\n",
        "Amy Clunie\n",
        "Declan Winston\n",
        "James Luke\n",
        "Riley Stewart\n",
        "Rory Evenden\n",
        "Eleuterio Lombardo\n",
        "Yong Hsiao\n",
        "Toby Queale\n",
        "Jasper Alfred\n",
        "Durante Ferri\n",
        "59\n"
       ]
      }
     ],
     "prompt_number": 52
    },
    {
     "cell_type": "code",
     "collapsed": false,
     "input": [
      "def count_votes(radish):\n",
      "    print(\"Counting votes for \" + radish + \"...\")\n",
      "    count = 0\n",
      "    for line in open(\"radishsurvey.txt\"):\n",
      "        line = line.strip()\n",
      "        name, vote = line.split(\" - \")\n",
      "        if vote == radish:\n",
      "            count = count + 1\n",
      "    return count"
     ],
     "language": "python",
     "metadata": {},
     "outputs": [],
     "prompt_number": 53
    },
    {
     "cell_type": "code",
     "collapsed": false,
     "input": [
      "votecounts= {}"
     ],
     "language": "python",
     "metadata": {},
     "outputs": [],
     "prompt_number": 54
    },
    {
     "cell_type": "code",
     "collapsed": false,
     "input": [
      "for line in open(\"hila.txt\"):\n",
      "    line = line.strip()\n",
      "    parts = line.split(\" - \")\n",
      "    if parts[1] not in votecounts:\n",
      "        votecounts[parts[1]] = count_votes(parts[1])\n",
      "print(votecounts)"
     ],
     "language": "python",
     "metadata": {},
     "outputs": [
      {
       "output_type": "stream",
       "stream": "stdout",
       "text": [
        "Counting votes for April Cross...\n"
       ]
      },
      {
       "ename": "IOError",
       "evalue": "[Errno 2] No such file or directory: 'radishsurvey.txt'",
       "output_type": "pyerr",
       "traceback": [
        "\u001b[0;31m---------------------------------------------------------------------------\u001b[0m\n\u001b[0;31mIOError\u001b[0m                                   Traceback (most recent call last)",
        "\u001b[0;32m<ipython-input-55-2cae6e85fad1>\u001b[0m in \u001b[0;36m<module>\u001b[0;34m()\u001b[0m\n\u001b[1;32m      3\u001b[0m     \u001b[0mparts\u001b[0m \u001b[0;34m=\u001b[0m \u001b[0mline\u001b[0m\u001b[0;34m.\u001b[0m\u001b[0msplit\u001b[0m\u001b[0;34m(\u001b[0m\u001b[0;34m\" - \"\u001b[0m\u001b[0;34m)\u001b[0m\u001b[0;34m\u001b[0m\u001b[0m\n\u001b[1;32m      4\u001b[0m     \u001b[0;32mif\u001b[0m \u001b[0mparts\u001b[0m\u001b[0;34m[\u001b[0m\u001b[0;36m1\u001b[0m\u001b[0;34m]\u001b[0m \u001b[0;32mnot\u001b[0m \u001b[0;32min\u001b[0m \u001b[0mvotecounts\u001b[0m\u001b[0;34m:\u001b[0m\u001b[0;34m\u001b[0m\u001b[0m\n\u001b[0;32m----> 5\u001b[0;31m         \u001b[0mvotecounts\u001b[0m\u001b[0;34m[\u001b[0m\u001b[0mparts\u001b[0m\u001b[0;34m[\u001b[0m\u001b[0;36m1\u001b[0m\u001b[0;34m]\u001b[0m\u001b[0;34m]\u001b[0m \u001b[0;34m=\u001b[0m \u001b[0mcount_votes\u001b[0m\u001b[0;34m(\u001b[0m\u001b[0mparts\u001b[0m\u001b[0;34m[\u001b[0m\u001b[0;36m1\u001b[0m\u001b[0;34m]\u001b[0m\u001b[0;34m)\u001b[0m\u001b[0;34m\u001b[0m\u001b[0m\n\u001b[0m\u001b[1;32m      6\u001b[0m \u001b[0;32mprint\u001b[0m\u001b[0;34m(\u001b[0m\u001b[0mvotecounts\u001b[0m\u001b[0;34m)\u001b[0m\u001b[0;34m\u001b[0m\u001b[0m\n",
        "\u001b[0;32m<ipython-input-53-3c6b56bf926c>\u001b[0m in \u001b[0;36mcount_votes\u001b[0;34m(radish)\u001b[0m\n\u001b[1;32m      2\u001b[0m     \u001b[0;32mprint\u001b[0m\u001b[0;34m(\u001b[0m\u001b[0;34m\"Counting votes for \"\u001b[0m \u001b[0;34m+\u001b[0m \u001b[0mradish\u001b[0m \u001b[0;34m+\u001b[0m \u001b[0;34m\"...\"\u001b[0m\u001b[0;34m)\u001b[0m\u001b[0;34m\u001b[0m\u001b[0m\n\u001b[1;32m      3\u001b[0m     \u001b[0mcount\u001b[0m \u001b[0;34m=\u001b[0m \u001b[0;36m0\u001b[0m\u001b[0;34m\u001b[0m\u001b[0m\n\u001b[0;32m----> 4\u001b[0;31m     \u001b[0;32mfor\u001b[0m \u001b[0mline\u001b[0m \u001b[0;32min\u001b[0m \u001b[0mopen\u001b[0m\u001b[0;34m(\u001b[0m\u001b[0;34m\"radishsurvey.txt\"\u001b[0m\u001b[0;34m)\u001b[0m\u001b[0;34m:\u001b[0m\u001b[0;34m\u001b[0m\u001b[0m\n\u001b[0m\u001b[1;32m      5\u001b[0m         \u001b[0mline\u001b[0m \u001b[0;34m=\u001b[0m \u001b[0mline\u001b[0m\u001b[0;34m.\u001b[0m\u001b[0mstrip\u001b[0m\u001b[0;34m(\u001b[0m\u001b[0;34m)\u001b[0m\u001b[0;34m\u001b[0m\u001b[0m\n\u001b[1;32m      6\u001b[0m         \u001b[0mname\u001b[0m\u001b[0;34m,\u001b[0m \u001b[0mvote\u001b[0m \u001b[0;34m=\u001b[0m \u001b[0mline\u001b[0m\u001b[0;34m.\u001b[0m\u001b[0msplit\u001b[0m\u001b[0;34m(\u001b[0m\u001b[0;34m\" - \"\u001b[0m\u001b[0;34m)\u001b[0m\u001b[0;34m\u001b[0m\u001b[0m\n",
        "\u001b[0;31mIOError\u001b[0m: [Errno 2] No such file or directory: 'radishsurvey.txt'"
       ]
      }
     ],
     "prompt_number": 55
    },
    {
     "cell_type": "code",
     "collapsed": false,
     "input": [
      "for line in open(\"hila.txt\"):\n",
      "    line = line.strip()\n",
      "    parts = line.split(\" - \")\n",
      "    if parts[1] not in votecounts:\n",
      "        votecounts[parts[1]] = count_votes(parts[1])\n",
      "print(votecounts)"
     ],
     "language": "python",
     "metadata": {},
     "outputs": [
      {
       "output_type": "stream",
       "stream": "stdout",
       "text": [
        "Counting votes for April Cross...\n"
       ]
      },
      {
       "ename": "IOError",
       "evalue": "[Errno 2] No such file or directory: 'radishsurvey.txt'",
       "output_type": "pyerr",
       "traceback": [
        "\u001b[0;31m---------------------------------------------------------------------------\u001b[0m\n\u001b[0;31mIOError\u001b[0m                                   Traceback (most recent call last)",
        "\u001b[0;32m<ipython-input-55-2cae6e85fad1>\u001b[0m in \u001b[0;36m<module>\u001b[0;34m()\u001b[0m\n\u001b[1;32m      3\u001b[0m     \u001b[0mparts\u001b[0m \u001b[0;34m=\u001b[0m \u001b[0mline\u001b[0m\u001b[0;34m.\u001b[0m\u001b[0msplit\u001b[0m\u001b[0;34m(\u001b[0m\u001b[0;34m\" - \"\u001b[0m\u001b[0;34m)\u001b[0m\u001b[0;34m\u001b[0m\u001b[0m\n\u001b[1;32m      4\u001b[0m     \u001b[0;32mif\u001b[0m \u001b[0mparts\u001b[0m\u001b[0;34m[\u001b[0m\u001b[0;36m1\u001b[0m\u001b[0;34m]\u001b[0m \u001b[0;32mnot\u001b[0m \u001b[0;32min\u001b[0m \u001b[0mvotecounts\u001b[0m\u001b[0;34m:\u001b[0m\u001b[0;34m\u001b[0m\u001b[0m\n\u001b[0;32m----> 5\u001b[0;31m         \u001b[0mvotecounts\u001b[0m\u001b[0;34m[\u001b[0m\u001b[0mparts\u001b[0m\u001b[0;34m[\u001b[0m\u001b[0;36m1\u001b[0m\u001b[0;34m]\u001b[0m\u001b[0;34m]\u001b[0m \u001b[0;34m=\u001b[0m \u001b[0mcount_votes\u001b[0m\u001b[0;34m(\u001b[0m\u001b[0mparts\u001b[0m\u001b[0;34m[\u001b[0m\u001b[0;36m1\u001b[0m\u001b[0;34m]\u001b[0m\u001b[0;34m)\u001b[0m\u001b[0;34m\u001b[0m\u001b[0m\n\u001b[0m\u001b[1;32m      6\u001b[0m \u001b[0;32mprint\u001b[0m\u001b[0;34m(\u001b[0m\u001b[0mvotecounts\u001b[0m\u001b[0;34m)\u001b[0m\u001b[0;34m\u001b[0m\u001b[0m\n",
        "\u001b[0;32m<ipython-input-53-3c6b56bf926c>\u001b[0m in \u001b[0;36mcount_votes\u001b[0;34m(radish)\u001b[0m\n\u001b[1;32m      2\u001b[0m     \u001b[0;32mprint\u001b[0m\u001b[0;34m(\u001b[0m\u001b[0;34m\"Counting votes for \"\u001b[0m \u001b[0;34m+\u001b[0m \u001b[0mradish\u001b[0m \u001b[0;34m+\u001b[0m \u001b[0;34m\"...\"\u001b[0m\u001b[0;34m)\u001b[0m\u001b[0;34m\u001b[0m\u001b[0m\n\u001b[1;32m      3\u001b[0m     \u001b[0mcount\u001b[0m \u001b[0;34m=\u001b[0m \u001b[0;36m0\u001b[0m\u001b[0;34m\u001b[0m\u001b[0m\n\u001b[0;32m----> 4\u001b[0;31m     \u001b[0;32mfor\u001b[0m \u001b[0mline\u001b[0m \u001b[0;32min\u001b[0m \u001b[0mopen\u001b[0m\u001b[0;34m(\u001b[0m\u001b[0;34m\"radishsurvey.txt\"\u001b[0m\u001b[0;34m)\u001b[0m\u001b[0;34m:\u001b[0m\u001b[0;34m\u001b[0m\u001b[0m\n\u001b[0m\u001b[1;32m      5\u001b[0m         \u001b[0mline\u001b[0m \u001b[0;34m=\u001b[0m \u001b[0mline\u001b[0m\u001b[0;34m.\u001b[0m\u001b[0mstrip\u001b[0m\u001b[0;34m(\u001b[0m\u001b[0;34m)\u001b[0m\u001b[0;34m\u001b[0m\u001b[0m\n\u001b[1;32m      6\u001b[0m         \u001b[0mname\u001b[0m\u001b[0;34m,\u001b[0m \u001b[0mvote\u001b[0m \u001b[0;34m=\u001b[0m \u001b[0mline\u001b[0m\u001b[0;34m.\u001b[0m\u001b[0msplit\u001b[0m\u001b[0;34m(\u001b[0m\u001b[0;34m\" - \"\u001b[0m\u001b[0;34m)\u001b[0m\u001b[0;34m\u001b[0m\u001b[0m\n",
        "\u001b[0;31mIOError\u001b[0m: [Errno 2] No such file or directory: 'radishsurvey.txt'"
       ]
      }
     ],
     "prompt_number": 55
    },
    {
     "cell_type": "code",
     "collapsed": false,
     "input": [
      "def count_votes(radish):\n",
      "    print(\"Counting votes for \" + radish + \"...\")\n",
      "    count = 0\n",
      "    for line in open(\"hila.txt\"):\n",
      "        line = line.strip()\n",
      "        name, vote = line.split(\" - \")\n",
      "        if vote == radish:\n",
      "            count = count + 1\n",
      "    return count"
     ],
     "language": "python",
     "metadata": {},
     "outputs": [],
     "prompt_number": 56
    },
    {
     "cell_type": "code",
     "collapsed": false,
     "input": [
      "for line in open(\"hila.txt\"):\n",
      "    line = line.strip()\n",
      "    parts = line.split(\" - \")\n",
      "    if parts[1] not in votecounts:\n",
      "        votecounts[parts[1]] = count_votes(parts[1])\n",
      "print(votecounts)"
     ],
     "language": "python",
     "metadata": {},
     "outputs": [
      {
       "output_type": "stream",
       "stream": "stdout",
       "text": [
        "Counting votes for April Cross...\n",
        "Counting votes for Champion...\n",
        "Counting votes for cherry belle...\n",
        "Counting votes for Snow Belle...\n",
        "Counting votes for Bunny Tail...\n",
        "Counting votes for Sicily Giant...\n",
        "Counting votes for Plum Purple...\n",
        "Counting votes for Red King...\n",
        "Counting votes for  Daikon...\n",
        "Counting votes for White Icicle...\n",
        "Counting votes for Daikon...\n",
        "Counting votes for French Breakfast...\n",
        "Counting votes for Cherry Belle...\n",
        "Counting votes for  plum purple...\n",
        "Counting votes for french breakfast...\n",
        "Counting votes for  Snow Belle...\n",
        "Counting votes for  Plum Purple...\n",
        "Counting votes for daikon...\n",
        "Counting votes for plum purple...\n",
        "Counting votes for white icicle...\n",
        "Counting votes for April cross...\n",
        "Counting votes for bunny tail...\n",
        "Counting votes for april cross...\n",
        "Counting votes for champion...\n",
        "Counting votes for sicily giant...\n",
        "Counting votes for  White Icicle...\n",
        "Counting votes for red king...\n",
        "Counting votes for Cherry  Belle...\n",
        "Counting votes for  Red King...\n",
        "Counting votes for  Sicily Giant...\n",
        "Counting votes for Plum  Purple...\n",
        "Counting votes for snow belle...\n",
        "Counting votes for  Cherry Belle...\n",
        "Counting votes for Sicily  Giant...\n",
        "{'white icicle': 5, 'Snow Belle': 58, 'sicily giant': 3, 'April Cross': 67, 'Plum  Purple': 1, 'snow belle': 3, ' Plum Purple': 1, 'April cross': 1, 'Sicily  Giant': 1, ' Snow Belle': 2, 'Champion': 75, 'Cherry Belle': 53, ' Daikon': 1, 'Bunny Tail': 68, 'bunny tail': 4, 'Red King': 52, 'french breakfast': 7, 'plum purple': 1, 'White Icicle': 59, 'champion': 1, 'cherry belle': 2, 'Daikon': 58, 'Sicily Giant': 52, ' plum purple': 1, 'april cross': 4, ' Red King': 1, 'red king': 3, ' White Icicle': 1, ' Cherry Belle': 2, 'daikon': 4, 'Cherry  Belle': 1, ' Sicily Giant': 1, 'French Breakfast': 65, 'Plum Purple': 53}\n"
       ]
      }
     ],
     "prompt_number": 57
    },
    {
     "cell_type": "code",
     "collapsed": false,
     "input": [
      "count_votes(\"White Icicle\")"
     ],
     "language": "python",
     "metadata": {},
     "outputs": [
      {
       "output_type": "stream",
       "stream": "stdout",
       "text": [
        "Counting votes for White Icicle...\n"
       ]
      },
      {
       "metadata": {},
       "output_type": "pyout",
       "prompt_number": 58,
       "text": [
        "59"
       ]
      }
     ],
     "prompt_number": 58
    },
    {
     "cell_type": "code",
     "collapsed": false,
     "input": [
      "print(votecounts)"
     ],
     "language": "python",
     "metadata": {},
     "outputs": [
      {
       "output_type": "stream",
       "stream": "stdout",
       "text": [
        "{'white icicle': 5, 'Snow Belle': 58, 'sicily giant': 3, 'April Cross': 67, 'Plum  Purple': 1, 'snow belle': 3, ' Plum Purple': 1, 'April cross': 1, 'Sicily  Giant': 1, ' Snow Belle': 2, 'Champion': 75, 'Cherry Belle': 53, ' Daikon': 1, 'Bunny Tail': 68, 'bunny tail': 4, 'Red King': 52, 'french breakfast': 7, 'plum purple': 1, 'White Icicle': 59, 'champion': 1, 'cherry belle': 2, 'Daikon': 58, 'Sicily Giant': 52, ' plum purple': 1, 'april cross': 4, ' Red King': 1, 'red king': 3, ' White Icicle': 1, ' Cherry Belle': 2, 'daikon': 4, 'Cherry  Belle': 1, ' Sicily Giant': 1, 'French Breakfast': 65, 'Plum Purple': 53}\n"
       ]
      }
     ],
     "prompt_number": 59
    },
    {
     "cell_type": "code",
     "collapsed": false,
     "input": [
      "votecounts = {}"
     ],
     "language": "python",
     "metadata": {},
     "outputs": [],
     "prompt_number": 60
    },
    {
     "cell_type": "code",
     "collapsed": false,
     "input": [
      "for line in open(\"hila.txt\"):\n",
      "    line = line.strip()\n",
      "    parts = line.split(\" - \")\n",
      "    if parts[1] not in votecounts:\n",
      "        votecounts[parts[1]] = 1\n",
      "    else\n",
      "        votecounts[parts[1]] = votecounts[parts[1]]+1\n",
      "print(votecounts)"
     ],
     "language": "python",
     "metadata": {},
     "outputs": [
      {
       "ename": "SyntaxError",
       "evalue": "invalid syntax (<ipython-input-61-7e74a00491de>, line 6)",
       "output_type": "pyerr",
       "traceback": [
        "\u001b[0;36m  File \u001b[0;32m\"<ipython-input-61-7e74a00491de>\"\u001b[0;36m, line \u001b[0;32m6\u001b[0m\n\u001b[0;31m    else\u001b[0m\n\u001b[0m        ^\u001b[0m\n\u001b[0;31mSyntaxError\u001b[0m\u001b[0;31m:\u001b[0m invalid syntax\n"
       ]
      }
     ],
     "prompt_number": 61
    },
    {
     "cell_type": "code",
     "collapsed": false,
     "input": [
      "votecounts = {}"
     ],
     "language": "python",
     "metadata": {},
     "outputs": [],
     "prompt_number": 62
    },
    {
     "cell_type": "code",
     "collapsed": false,
     "input": [
      "for line in open(\"hila.txt\"):\n",
      "    line = line.strip()\n",
      "    parts = line.split(\" - \")\n",
      "    if parts[1] not in votecounts:\n",
      "        votecounts[parts[1]] = 1\n",
      "    else\n",
      "        votecounts[parts[1]] = votecounts[parts[1]]+1\n",
      "print(votecounts)"
     ],
     "language": "python",
     "metadata": {},
     "outputs": [
      {
       "ename": "SyntaxError",
       "evalue": "invalid syntax (<ipython-input-63-7e74a00491de>, line 6)",
       "output_type": "pyerr",
       "traceback": [
        "\u001b[0;36m  File \u001b[0;32m\"<ipython-input-63-7e74a00491de>\"\u001b[0;36m, line \u001b[0;32m6\u001b[0m\n\u001b[0;31m    else\u001b[0m\n\u001b[0m        ^\u001b[0m\n\u001b[0;31mSyntaxError\u001b[0m\u001b[0;31m:\u001b[0m invalid syntax\n"
       ]
      }
     ],
     "prompt_number": 63
    },
    {
     "cell_type": "code",
     "collapsed": false,
     "input": [
      "votecounts = {}"
     ],
     "language": "python",
     "metadata": {},
     "outputs": [],
     "prompt_number": 64
    },
    {
     "cell_type": "code",
     "collapsed": false,
     "input": [
      "for line in open(\"hila.txt\"):\n",
      "    line = line.strip()\n",
      "    parts = line.split(\" - \")\n",
      "    if parts[1] not in votecounts:\n",
      "        votecounts[parts[1]] = 1\n",
      "    else:\n",
      "        votecounts[parts[1]] = votecounts[parts[1]]+1\n",
      "print(votecounts)"
     ],
     "language": "python",
     "metadata": {},
     "outputs": [
      {
       "output_type": "stream",
       "stream": "stdout",
       "text": [
        "{'white icicle': 5, 'Snow Belle': 58, 'sicily giant': 3, 'April Cross': 67, 'Plum  Purple': 1, 'snow belle': 3, ' Plum Purple': 1, 'April cross': 1, 'Sicily  Giant': 1, ' Snow Belle': 2, 'Champion': 75, 'Cherry Belle': 53, ' Daikon': 1, 'Bunny Tail': 68, 'bunny tail': 4, 'Red King': 52, 'french breakfast': 7, 'plum purple': 1, 'White Icicle': 59, 'champion': 1, 'cherry belle': 2, 'Daikon': 58, 'Sicily Giant': 52, ' plum purple': 1, 'april cross': 4, ' Red King': 1, 'red king': 3, ' White Icicle': 1, ' Cherry Belle': 2, 'daikon': 4, 'Cherry  Belle': 1, ' Sicily Giant': 1, 'French Breakfast': 65, 'Plum Purple': 53}\n"
       ]
      }
     ],
     "prompt_number": 65
    },
    {
     "cell_type": "code",
     "collapsed": false,
     "input": [
      "votecounts = {}"
     ],
     "language": "python",
     "metadata": {},
     "outputs": [],
     "prompt_number": 78
    },
    {
     "cell_type": "code",
     "collapsed": false,
     "input": [
      "for line in open(\"hila.txt\"):\n",
      "    line = line.strip().lower()\n",
      "    parts = line.split(\" - \")\n",
      "    parts[1]= parts[1].strip().replace(\"  \", \" \")\n",
      "    if parts[1] not in votecounts:\n",
      "        votecounts[parts[1]] = 1\n",
      "    else:\n",
      "        votecounts[parts[1]] = votecounts[parts[1]]+1\n",
      "print(votecounts)"
     ],
     "language": "python",
     "metadata": {},
     "outputs": [
      {
       "output_type": "stream",
       "stream": "stdout",
       "text": [
        "{'white icicle': 65, 'snow belle': 63, 'champion': 76, 'cherry belle': 58, 'daikon': 63, 'bunny tail': 72, 'french breakfast': 72, 'sicily giant': 57, 'red king': 56, 'plum purple': 57, 'april cross': 72}\n"
       ]
      }
     ],
     "prompt_number": 79
    },
    {
     "cell_type": "code",
     "collapsed": false,
     "input": [
      "vote counts = {}"
     ],
     "language": "python",
     "metadata": {},
     "outputs": [
      {
       "ename": "SyntaxError",
       "evalue": "invalid syntax (<ipython-input-71-381546607285>, line 1)",
       "output_type": "pyerr",
       "traceback": [
        "\u001b[0;36m  File \u001b[0;32m\"<ipython-input-71-381546607285>\"\u001b[0;36m, line \u001b[0;32m1\u001b[0m\n\u001b[0;31m    vote counts = {}\u001b[0m\n\u001b[0m              ^\u001b[0m\n\u001b[0;31mSyntaxError\u001b[0m\u001b[0;31m:\u001b[0m invalid syntax\n"
       ]
      }
     ],
     "prompt_number": 71
    },
    {
     "cell_type": "code",
     "collapsed": false,
     "input": [
      "from pprint import pprint"
     ],
     "language": "python",
     "metadata": {},
     "outputs": [],
     "prompt_number": 76
    },
    {
     "cell_type": "code",
     "collapsed": false,
     "input": [
      "pprint(votecounts)"
     ],
     "language": "python",
     "metadata": {},
     "outputs": [
      {
       "output_type": "stream",
       "stream": "stdout",
       "text": [
        "{'april cross': 72,\n",
        " 'bunny tail': 72,\n",
        " 'champion': 76,\n",
        " 'cherry belle': 58,\n",
        " 'daikon': 63,\n",
        " 'french breakfast': 72,\n",
        " 'plum purple': 57,\n",
        " 'red king': 56,\n",
        " 'sicily giant': 57,\n",
        " 'snow belle': 63,\n",
        " 'white icicle': 65}\n"
       ]
      }
     ],
     "prompt_number": 80
    },
    {
     "cell_type": "code",
     "collapsed": false,
     "input": [
      "max = 0\n",
      "for name in votecounts:\n",
      "    if votecounts[name]> max:\n",
      "        max = votecounts[name]\n",
      "        winner = name\n",
      "print(\"Winner is \"+ winner+\" with counts!\")\n",
      "    "
     ],
     "language": "python",
     "metadata": {},
     "outputs": [
      {
       "output_type": "stream",
       "stream": "stdout",
       "text": [
        "Winner is champion with counts!\n"
       ]
      }
     ],
     "prompt_number": 83
    },
    {
     "cell_type": "code",
     "collapsed": false,
     "input": [
      "%matplotlib inline\n",
      "import matplotlib.pyplot as plt\n",
      "vals = [3,2,5,0,1]\n",
      "plt.plot(vals)"
     ],
     "language": "python",
     "metadata": {},
     "outputs": [
      {
       "metadata": {},
       "output_type": "pyout",
       "prompt_number": 86,
       "text": [
        "[<matplotlib.lines.Line2D at 0x108b9e390>]"
       ]
      },
      {
       "metadata": {},
       "output_type": "display_data",
       "png": "[encoded data removed]",
       "text": [
        "<matplotlib.figure.Figure at 0x106d8f810>"
       ]
      }
     ],
     "prompt_number": 86
    },
    {
     "cell_type": "code",
     "collapsed": false,
     "input": [
      "import matplotlib.pyplot as plt\n",
      "import numpy as np\n",
      "\n",
      "names = []\n",
      "votes = []\n",
      "# Split the dictionary of name:votes into two lists, one for names and one for vote count\n",
      "for radish in votecounts:\n",
      "    names.append(radish)\n",
      "    votes.append(votecounts[radish])\n",
      "\n",
      "# The X axis can just be numbered 0,1,2,3...\n",
      "x = np.arange(len(votecounts))\n",
      "\n",
      "plt.bar(x, votes)\n",
      "plt.xticks(x + 0.5, names, rotation=90)"
     ],
     "language": "python",
     "metadata": {},
     "outputs": [
      {
       "metadata": {},
       "output_type": "pyout",
       "prompt_number": 89,
       "text": [
        "([<matplotlib.axis.XTick at 0x108a87510>,\n",
        "  <matplotlib.axis.XTick at 0x108b49550>,\n",
        "  <matplotlib.axis.XTick at 0x108b49a50>,\n",
        "  <matplotlib.axis.XTick at 0x1068b4790>,\n",
        "  <matplotlib.axis.XTick at 0x1068b4ed0>,\n",
        "  <matplotlib.axis.XTick at 0x1068bd650>,\n",
        "  <matplotlib.axis.XTick at 0x1068bdd90>,\n",
        "  <matplotlib.axis.XTick at 0x1068ca510>,\n",
        "  <matplotlib.axis.XTick at 0x1068cac50>,\n",
        "  <matplotlib.axis.XTick at 0x1068d33d0>,\n",
        "  <matplotlib.axis.XTick at 0x1068d3b10>],\n",
        " <a list of 11 Text xticklabel objects>)"
       ]
      },
      {
       "metadata": {},
       "output_type": "display_data",
       "png": "[encoded data removed]",
       "text": [
        "<matplotlib.figure.Figure at 0x108b49d10>"
       ]
      }
     ],
     "prompt_number": 89
    },
    {
     "cell_type": "code",
     "collapsed": false,
     "input": [
      "import csv\n",
      "f=open(\"coffee.csv\")\n",
      "for row in csv.reader(f):\n",
      "    print(row)"
     ],
     "language": "python",
     "metadata": {},
     "outputs": [
      {
       "output_type": "stream",
       "stream": "stdout",
       "text": [
        "['Coffee', 'Water', 'Milk', 'Icecream']\n",
        "['Espresso', 'No', 'No', 'No']\n",
        "['Long Black', 'Yes', 'No', 'No']\n",
        "['Flat White', 'No', 'Yes', 'No']\n",
        "['Cappuccino', 'No', 'Yes - Frothy', 'No']\n",
        "['Affogato', 'No', 'No', 'Yes']\n"
       ]
      }
     ],
     "prompt_number": 90
    },
    {
     "cell_type": "code",
     "collapsed": false,
     "input": [],
     "language": "python",
     "metadata": {},
     "outputs": []
    }
   ],
   "metadata": {}
  }
 ]
}