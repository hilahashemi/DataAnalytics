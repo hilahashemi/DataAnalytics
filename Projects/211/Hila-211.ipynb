{
 "metadata": {
  "name": "",
  "signature": "sha256:40ee4a994babcb46e0a5946a4f0f2c22f8b68fc4793a39ae579af216df67a620"
 },
 "nbformat": 3,
 "nbformat_minor": 0,
 "worksheets": [
  {
   "cells": [
    {
     "cell_type": "markdown",
     "metadata": {},
     "source": [
      "See the [data manifest documentation]( http://devtest.sandiegodata.org.s3.amazonaws.com/manifests/fc22cee6-acfa-4236-a6cb-e0d887eba178/documentation.html) for details about the dataset. The [data schema](http://devtest.sandiegodata.org.s3.amazonaws.com/manifests/fc22cee6-acfa-4236-a6cb-e0d887eba178/p02J001002.html) is most valueable. "
     ]
    },
    {
     "cell_type": "code",
     "collapsed": false,
     "input": [
      "import numpy as np\n",
      "import pandas as pd\n",
      "import matplotlib.pyplot as plt\n",
      "\n",
      "# You'll probably need to run 'sudo pip install sdipylib' for this to work\n",
      "from  sdipylib.url import cache_url\n",
      "pd.__version__"
     ],
     "language": "python",
     "metadata": {},
     "outputs": [
      {
       "metadata": {},
       "output_type": "pyout",
       "prompt_number": 2,
       "text": [
        "'0.13.1'"
       ]
      }
     ],
     "prompt_number": 2
    },
    {
     "cell_type": "code",
     "collapsed": false,
     "input": [
      "# cache_url will download the URL and store it in a local file, but when it is called a second time, it uses the\n",
      "# downloaded file. You'll have to delete the file externally to get an update. \n",
      "fn = cache_url('http://devtest.sandiegodata.org.s3.amazonaws.com/manifests/fc22cee6-acfa-4236-a6cb-e0d887eba178/211_service_calls.csv')\n",
      "print fn\n",
      "# Read_csv guesses that some columns are numbers, and complains when a string appears, so we have to be \n",
      "# explicit about the datatyps of these columns. \n",
      "df = pd.read_csv(fn,dtype =  {16: str, 26: str, 27: str, 29: str})"
     ],
     "language": "python",
     "metadata": {},
     "outputs": [
      {
       "output_type": "stream",
       "stream": "stdout",
       "text": [
        "Wrote 6828758 bytes, total 335652489\n"
       ]
      },
      {
       "output_type": "stream",
       "stream": "stdout",
       "text": [
        "/Users/Hila/pdp-data-projects/211sandiego.org/servicecalls/analysts/211_service_calls.csv\n"
       ]
      }
     ],
     "prompt_number": 3
    },
    {
     "cell_type": "code",
     "collapsed": false,
     "input": [
      "df[::10].age_goups.value_counts()"
     ],
     "language": "python",
     "metadata": {},
     "outputs": [
      {
       "metadata": {},
       "output_type": "pyout",
       "prompt_number": 4,
       "text": [
        "50 to 54 years         8045\n",
        "30 to 34 years         7592\n",
        "25 to 29 years         7231\n",
        "40 to 44 years         7000\n",
        "55 to 59 years         6854\n",
        "35 to 39 years         6602\n",
        "45 to 49 years         6599\n",
        "20 to 24 years         5846\n",
        "60 to 64 years         5536\n",
        "65 to 69 years         3284\n",
        "70 to 74 years         2173\n",
        "Declined to State      1743\n",
        "15 to 19 years         1584\n",
        "75 to 79 years         1327\n",
        "80 to 84 years          972\n",
        "85 to 89 years          484\n",
        "90 to 94 years          253\n",
        "10 to 14 years          202\n",
        "Under 5 years           106\n",
        "5 to 9 years            105\n",
        "95 to 99 years           40\n",
        "100 years and older       9\n",
        "dtype: int64"
       ]
      }
     ],
     "prompt_number": 4
    },
    {
     "cell_type": "code",
     "collapsed": false,
     "input": [
      "df[df.create_time == df.create_time.value_counts().index[0]].ref_agency.unique()"
     ],
     "language": "python",
     "metadata": {},
     "outputs": [
      {
       "metadata": {},
       "output_type": "pyout",
       "prompt_number": 37,
       "text": [
        "array(['Housing and Community Development, County of San Diego',\n",
        "       'United States Department of Housing and Urban Development ',\n",
        "       'Townspeople', 'Volunteers of America Southwest'], dtype=object)"
       ]
      }
     ],
     "prompt_number": 37
    },
    {
     "cell_type": "code",
     "collapsed": false,
     "input": [
      "!pwd\n"
     ],
     "language": "python",
     "metadata": {},
     "outputs": [
      {
       "output_type": "stream",
       "stream": "stdout",
       "text": [
        "/Users/eric/proj/Notebooks/pdp-data-projects/211sandiego.org/servicecalls/analysts\r\n"
       ]
      }
     ],
     "prompt_number": 36
    },
    {
     "cell_type": "code",
     "collapsed": false,
     "input": [
      "df[(df.hshld_pct_fpl < 1000000) & (df.hshld_pct_fpl > 0) ].hshld_pct_fpl.describe()"
     ],
     "language": "python",
     "metadata": {},
     "outputs": [
      {
       "metadata": {},
       "output_type": "pyout",
       "prompt_number": 3,
       "text": [
        "count    457832.000000\n",
        "mean        140.876510\n",
        "std        1201.832977\n",
        "min           0.010000\n",
        "25%          45.000000\n",
        "50%          83.000000\n",
        "75%         112.000000\n",
        "max      216000.000000\n",
        "Name: hshld_pct_fpl, dtype: float64"
       ]
      }
     ],
     "prompt_number": 3
    },
    {
     "cell_type": "code",
     "collapsed": false,
     "input": [
      "df[(df.hshld_income < 100000) & (df.hshld_income > 0) ].hshld_income.hist()"
     ],
     "language": "python",
     "metadata": {},
     "outputs": [
      {
       "metadata": {},
       "output_type": "pyout",
       "prompt_number": 4,
       "text": [
        "<matplotlib.axes.AxesSubplot at 0x126d24250>"
       ]
      }
     ],
     "prompt_number": 4
    },
    {
     "cell_type": "code",
     "collapsed": false,
     "input": [
      "df.race.unique()"
     ],
     "language": "python",
     "metadata": {},
     "outputs": [
      {
       "metadata": {},
       "output_type": "pyout",
       "prompt_number": 5,
       "text": [
        "array([nan, 'African American', 'Hispanic/Latino - Mexican American',\n",
        "       'Hispanic/Latino - Spanish', 'White - Latino', 'White - Caucasian',\n",
        "       'Hispanic/Latino - Argentinian', 'Hispanic/Latino - Chicano',\n",
        "       'Hispanic/Latino - Mexican', 'Declined to State',\n",
        "       'Asian - Filipino', 'Hispanic/Latino - Puerto Rican',\n",
        "       'African - Somali', 'Native Hawaiian', 'American Indian',\n",
        "       'Pacific Islander', 'White - Eastern European/Ukrainian',\n",
        "       'White - Eastern European/Russian', 'Hispanic/Latino - Nicaraguan',\n",
        "       'Asian - Chinese', 'Other', 'White - Middle Eastern/Arab',\n",
        "       'African - Sudanese', 'Hispanic/Latino - Cuban',\n",
        "       'White - Middle Eastern/Iraqi',\n",
        "       'White - Middle Eastern/Indo-European', 'White - Armenian',\n",
        "       'Asian - Vietnamese', 'Hispanic/Latino - Salvadoran',\n",
        "       'White - Middle Eastern/Turkic', 'African - Ethiopian',\n",
        "       'Asian - Bangladesh', 'African - Burundi', 'African - Eritrean',\n",
        "       'Asian - Indian', 'Asian - Malaysian', 'Asian - Laotian',\n",
        "       'Hispanic/Latino - Colombian', 'Asian - Pakistani',\n",
        "       'African - Kenyan', 'Asian - Japanese',\n",
        "       'White - Middle Eastern/Israelite', 'Alaska Native',\n",
        "       'Asian - Indonesian', 'African - Congolese',\n",
        "       'White - Middle Eastern/Syriac', 'Asian - Cambodian',\n",
        "       'Asian - Korean', 'Hispanic/Latino - Dominican',\n",
        "       'Biracial/multi-ethnic', 'Asian - Southeast Asia', 'Asian - Thai',\n",
        "       'Asian - Karen', 'Asian - Hmong', 'African - Haitian',\n",
        "       'Asian - Indian Subcontinent', 'Asian - Burmese',\n",
        "       'Not appropriate for this call', 'Did not ask', 'Call dropped',\n",
        "       'Call disconnected'], dtype=object)"
       ]
      }
     ],
     "prompt_number": 5
    },
    {
     "cell_type": "code",
     "collapsed": false,
     "input": [
      "df.race.fillna('').str.contains('White')"
     ],
     "language": "python",
     "metadata": {},
     "outputs": [
      {
       "metadata": {},
       "output_type": "pyout",
       "prompt_number": 26,
       "text": [
        "0     False\n",
        "1     False\n",
        "2     False\n",
        "3     False\n",
        "4     False\n",
        "5     False\n",
        "6     False\n",
        "7     False\n",
        "8     False\n",
        "9     False\n",
        "10    False\n",
        "11    False\n",
        "12    False\n",
        "13    False\n",
        "14    False\n",
        "...\n",
        "894540    False\n",
        "894541    False\n",
        "894542    False\n",
        "894543    False\n",
        "894544    False\n",
        "894545    False\n",
        "894546    False\n",
        "894547    False\n",
        "894548    False\n",
        "894549    False\n",
        "894550    False\n",
        "894551    False\n",
        "894552    False\n",
        "894553    False\n",
        "894554    False\n",
        "Name: race, Length: 894555, dtype: bool"
       ]
      }
     ],
     "prompt_number": 26
    },
    {
     "cell_type": "code",
     "collapsed": false,
     "input": [
      "df.columns"
     ],
     "language": "python",
     "metadata": {},
     "outputs": [
      {
       "metadata": {},
       "output_type": "pyout",
       "prompt_number": 6,
       "text": [
        "Index([u'id', u'call_stat', u'restrictions', u'create_time', u'client_id', u'queue', u'call_type', u'relationship', u'called_before', u'how_hear', u'have_ins', u'ins_type', u'hshld_disabled', u'gender', u'age_goups', u'caller_age', u'preg_lt6', u'child_lt6', u'ethnicity', u'race', u'language', u'hshld_size', u'hshld_size_code', u'income_source', u'hshld_income', u'hshld_pct_fpl', u'hshld_pct_fpl_code', u'income_declined', u'zip', u'zip_code', u'need_tax_code', u'need_tax_cat', u'need_unmet', u'need_reason_unmet', u'ref_agency', u'ref_name'], dtype='object')"
       ]
      }
     ],
     "prompt_number": 6
    },
    {
     "cell_type": "code",
     "collapsed": false,
     "input": [
      "df.groupby(['create_time','client_id']).head()"
     ],
     "language": "python",
     "metadata": {},
     "outputs": []
    },
    {
     "cell_type": "code",
     "collapsed": false,
     "input": [],
     "language": "python",
     "metadata": {},
     "outputs": []
    }
   ],
   "metadata": {}
  }
 ]
}