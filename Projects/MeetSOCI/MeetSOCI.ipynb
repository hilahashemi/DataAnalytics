{
 "metadata": {
  "name": "",
  "signature": "sha256:ab8caf184194f18c4821335b91480e48851852aa2746139ca2fa6e1fe4f85e3b"
 },
 "nbformat": 3,
 "nbformat_minor": 0,
 "worksheets": [
  {
   "cells": [
    {
     "cell_type": "code",
     "collapsed": false,
     "input": [
      "import pandas as pd\n",
      "import pandas.io.data\n",
      "from pandas import Series, DataFrame\n",
      "\n",
      "import numpy as np\n",
      "\n",
      "import datetime\n",
      "\n",
      "import matplotlib.pyplot as plt\n",
      "import matplotlib as mpl\n",
      "\n",
      "%matplotlib inline"
     ],
     "language": "python",
     "metadata": {},
     "outputs": [],
     "prompt_number": 1
    },
    {
     "cell_type": "code",
     "collapsed": false,
     "input": [
      "boats = pd.read_csv('boats.csv')\n",
      "golf = pd.read_csv('Golf.csv')\n",
      "pizza = pd.read_csv('pizza.csv')"
     ],
     "language": "python",
     "metadata": {},
     "outputs": [
      {
       "output_type": "stream",
       "stream": "stderr",
       "text": [
        "/Users/Hila/anaconda/lib/python2.7/site-packages/pandas/io/parsers.py:1070: DtypeWarning: Columns (68,69,70,71,72,73,74,75,76,77,78,79,80,81,82,83,84,85,86,87,88,89,90) have mixed types. Specify dtype option on import or set low_memory=False.\n",
        "  data = self._reader.read(nrows)\n"
       ]
      }
     ],
     "prompt_number": 2
    },
    {
     "cell_type": "code",
     "collapsed": false,
     "input": [
      "boats.info()"
     ],
     "language": "python",
     "metadata": {},
     "outputs": [
      {
       "output_type": "stream",
       "stream": "stdout",
       "text": [
        "<class 'pandas.core.frame.DataFrame'>\n",
        "Int64Index: 11328 entries, 0 to 11327\n",
        "Data columns (total 58 columns):\n",
        "Page Name        11328 non-null object\n",
        "Page Fans        11328 non-null int64\n",
        "Page URL         11328 non-null object\n",
        "Post Date        11328 non-null object\n",
        "Post Likes       11328 non-null int64\n",
        "Post Comments    11328 non-null int64\n",
        "Post Shares      11328 non-null int64\n",
        "Raw Score        11328 non-null float64\n",
        "Post Message     11328 non-null float64\n",
        "Post Image       9636 non-null object\n",
        "Post Link        8375 non-null object\n",
        "Unnamed: 11      1637 non-null object\n",
        "Unnamed: 12      127 non-null object\n",
        "Unnamed: 13      86 non-null object\n",
        "Unnamed: 14      57 non-null object\n",
        "Unnamed: 15      42 non-null object\n",
        "Unnamed: 16      33 non-null object\n",
        "Unnamed: 17      26 non-null object\n",
        "Unnamed: 18      22 non-null object\n",
        "Unnamed: 19      18 non-null object\n",
        "Unnamed: 20      16 non-null object\n",
        "Unnamed: 21      15 non-null object\n",
        "Unnamed: 22      10 non-null object\n",
        "Unnamed: 23      9 non-null object\n",
        "Unnamed: 24      9 non-null object\n",
        "Unnamed: 25      9 non-null object\n",
        "Unnamed: 26      8 non-null object\n",
        "Unnamed: 27      8 non-null object\n",
        "Unnamed: 28      8 non-null object\n",
        "Unnamed: 29      8 non-null object\n",
        "Unnamed: 30      8 non-null object\n",
        "Unnamed: 31      8 non-null object\n",
        "Unnamed: 32      6 non-null object\n",
        "Unnamed: 33      5 non-null object\n",
        "Unnamed: 34      4 non-null object\n",
        "Unnamed: 35      4 non-null object\n",
        "Unnamed: 36      3 non-null object\n",
        "Unnamed: 37      2 non-null object\n",
        "Unnamed: 38      2 non-null object\n",
        "Unnamed: 39      2 non-null object\n",
        "Unnamed: 40      2 non-null object\n",
        "Unnamed: 41      1 non-null object\n",
        "Unnamed: 42      1 non-null object\n",
        "Unnamed: 43      1 non-null object\n",
        "Unnamed: 44      1 non-null object\n",
        "Unnamed: 45      1 non-null object\n",
        "Unnamed: 46      1 non-null object\n",
        "Unnamed: 47      1 non-null object\n",
        "Unnamed: 48      1 non-null object\n",
        "Unnamed: 49      1 non-null object\n",
        "Unnamed: 50      1 non-null object\n",
        "Unnamed: 51      1 non-null object\n",
        "Unnamed: 52      1 non-null object\n",
        "Unnamed: 53      1 non-null object\n",
        "Unnamed: 54      1 non-null object\n",
        "Unnamed: 55      1 non-null object\n",
        "Unnamed: 56      1 non-null object\n",
        "Unnamed: 57      1 non-null object\n",
        "dtypes: float64(2), int64(4), object(52)"
       ]
      }
     ],
     "prompt_number": 3
    },
    {
     "cell_type": "code",
     "collapsed": false,
     "input": [
      "bl = boats['Post Likes']/boats['Page Fans']\n",
      "bs = boats['Post Shares']/boats['Page Fans']\n",
      "bc = boats['Post Comments']/boats['Page Fans']"
     ],
     "language": "python",
     "metadata": {},
     "outputs": [],
     "prompt_number": 4
    },
    {
     "cell_type": "code",
     "collapsed": false,
     "input": [
      "gc = golf['Post Comments']/golf['Page Fans']\n",
      "gl = golf['Post Likes']/golf['Page Fans']\n",
      "gs = golf['Post Shares']/golf['Page Fans']"
     ],
     "language": "python",
     "metadata": {},
     "outputs": [],
     "prompt_number": 5
    },
    {
     "cell_type": "code",
     "collapsed": false,
     "input": [
      "ps = pizza['Post Shares']/pizza['Page Fans']\n",
      "pl = pizza['Post Likes']/pizza['Page Fans']\n",
      "pc = pizza['Post Comments']/pizza['Page Fans']"
     ],
     "language": "python",
     "metadata": {},
     "outputs": [],
     "prompt_number": 6
    },
    {
     "cell_type": "code",
     "collapsed": false,
     "input": [
      "l = bl.append([gl,pl])\n",
      "#l.hist(bins = 1000)\n",
      "l[((l <0.05) & (l >0))].hist(bins = 1000)\n",
      "l.describe()"
     ],
     "language": "python",
     "metadata": {},
     "outputs": [
      {
       "metadata": {},
       "output_type": "pyout",
       "prompt_number": 7,
       "text": [
        "count    39196.000000\n",
        "mean         0.004790\n",
        "std          0.011525\n",
        "min          0.000000\n",
        "25%          0.000385\n",
        "50%          0.001553\n",
        "75%          0.005175\n",
        "max          0.741992\n",
        "dtype: float64"
       ]
      },
      {
       "metadata": {},
       "output_type": "display_data",
       "png": "[encoded data removed]",
       "text": [
        "<matplotlib.figure.Figure at 0x108f4b890>"
       ]
      }
     ],
     "prompt_number": 7
    },
    {
     "cell_type": "code",
     "collapsed": false,
     "input": [
      "c = bc.append([gc,pc])\n",
      "#c.hist(bins = 1000)\n",
      "c[((c < 0.01) & (c >0))].hist(bins = 1000)\n",
      "c.describe()"
     ],
     "language": "python",
     "metadata": {},
     "outputs": [
      {
       "metadata": {},
       "output_type": "pyout",
       "prompt_number": 8,
       "text": [
        "count    39196.000000\n",
        "mean         0.000461\n",
        "std          0.002794\n",
        "min          0.000000\n",
        "25%          0.000000\n",
        "50%          0.000030\n",
        "75%          0.000215\n",
        "max          0.277413\n",
        "dtype: float64"
       ]
      },
      {
       "metadata": {},
       "output_type": "display_data",
       "png": "[encoded data removed]",
       "text": [
        "<matplotlib.figure.Figure at 0x10951b050>"
       ]
      }
     ],
     "prompt_number": 8
    },
    {
     "cell_type": "code",
     "collapsed": false,
     "input": [
      "s = bs.append([gs,ps])\n",
      "#s.hist(bins = 1000)\n",
      "s[ ((s < 0.001) & (s>0))].hist(bins = 1000)\n",
      "s.describe()"
     ],
     "language": "python",
     "metadata": {},
     "outputs": [
      {
       "metadata": {},
       "output_type": "pyout",
       "prompt_number": 9,
       "text": [
        "count    39196.000000\n",
        "mean         0.000534\n",
        "std          0.007105\n",
        "min          0.000000\n",
        "25%          0.000000\n",
        "50%          0.000000\n",
        "75%          0.000056\n",
        "max          0.818090\n",
        "dtype: float64"
       ]
      },
      {
       "metadata": {},
       "output_type": "display_data",
       "png": "[encoded data removed]",
       "text": [
        "<matplotlib.figure.Figure at 0x10bc60bd0>"
       ]
      }
     ],
     "prompt_number": 9
    },
    {
     "cell_type": "code",
     "collapsed": false,
     "input": [
      "nl, like_division = np.histogram(l, bins = 10000) \n",
      "nc, comment_division = np.histogram(l, bins = 10000) \n",
      "ns, share_division = np.histogram(s, bins = 10000)"
     ],
     "language": "python",
     "metadata": {},
     "outputs": [],
     "prompt_number": 10
    }
   ],
   "metadata": {}
  }
 ]
}