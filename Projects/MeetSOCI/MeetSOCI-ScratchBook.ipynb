{
 "metadata": {
  "name": "",
  "signature": "sha256:1ab67ff762df89dcd52ed43229ae11876da1217b0e22faf7ab986cb07cddd258"
 },
 "nbformat": 3,
 "nbformat_minor": 0,
 "worksheets": [
  {
   "cells": [
    {
     "cell_type": "code",
     "collapsed": false,
     "input": [
      "import pandas as pd\n",
      "import pandas.io.data\n",
      "from pandas import Series, DataFrame\n",
      "\n",
      "import numpy as np\n",
      "\n",
      "import datetime\n",
      "\n",
      "import matplotlib.pyplot as plt\n",
      "import matplotlib as mpl\n",
      "\n",
      "%matplotlib inline"
     ],
     "language": "python",
     "metadata": {},
     "outputs": [],
     "prompt_number": 3
    },
    {
     "cell_type": "code",
     "collapsed": false,
     "input": [
      "boats = pd.read_csv('boats.csv')\n",
      "golf = pd.read_csv('Golf.csv')\n",
      "pizza = pd.read_csv('pizza.csv')"
     ],
     "language": "python",
     "metadata": {},
     "outputs": [
      {
       "output_type": "stream",
       "stream": "stderr",
       "text": [
        "/Users/Hila/anaconda/lib/python2.7/site-packages/pandas/io/parsers.py:1070: DtypeWarning: Columns (68,69,70,71,72,73,74,75,76,77,78,79,80,81,82,83,84,85,86,87,88,89,90) have mixed types. Specify dtype option on import or set low_memory=False.\n",
        "  data = self._reader.read(nrows)\n"
       ]
      }
     ],
     "prompt_number": 4
    },
    {
     "cell_type": "code",
     "collapsed": false,
     "input": [
      "boats.info()"
     ],
     "language": "python",
     "metadata": {},
     "outputs": [
      {
       "output_type": "stream",
       "stream": "stdout",
       "text": [
        "<class 'pandas.core.frame.DataFrame'>\n",
        "Int64Index: 11328 entries, 0 to 11327\n",
        "Data columns (total 58 columns):\n",
        "Page Name        11328 non-null object\n",
        "Page Fans        11328 non-null int64\n",
        "Page URL         11328 non-null object\n",
        "Post Date        11328 non-null object\n",
        "Post Likes       11328 non-null int64\n",
        "Post Comments    11328 non-null int64\n",
        "Post Shares      11328 non-null int64\n",
        "Raw Score        11328 non-null float64\n",
        "Post Message     11328 non-null float64\n",
        "Post Image       9636 non-null object\n",
        "Post Link        8375 non-null object\n",
        "Unnamed: 11      1637 non-null object\n",
        "Unnamed: 12      127 non-null object\n",
        "Unnamed: 13      86 non-null object\n",
        "Unnamed: 14      57 non-null object\n",
        "Unnamed: 15      42 non-null object\n",
        "Unnamed: 16      33 non-null object\n",
        "Unnamed: 17      26 non-null object\n",
        "Unnamed: 18      22 non-null object\n",
        "Unnamed: 19      18 non-null object\n",
        "Unnamed: 20      16 non-null object\n",
        "Unnamed: 21      15 non-null object\n",
        "Unnamed: 22      10 non-null object\n",
        "Unnamed: 23      9 non-null object\n",
        "Unnamed: 24      9 non-null object\n",
        "Unnamed: 25      9 non-null object\n",
        "Unnamed: 26      8 non-null object\n",
        "Unnamed: 27      8 non-null object\n",
        "Unnamed: 28      8 non-null object\n",
        "Unnamed: 29      8 non-null object\n",
        "Unnamed: 30      8 non-null object\n",
        "Unnamed: 31      8 non-null object\n",
        "Unnamed: 32      6 non-null object\n",
        "Unnamed: 33      5 non-null object\n",
        "Unnamed: 34      4 non-null object\n",
        "Unnamed: 35      4 non-null object\n",
        "Unnamed: 36      3 non-null object\n",
        "Unnamed: 37      2 non-null object\n",
        "Unnamed: 38      2 non-null object\n",
        "Unnamed: 39      2 non-null object\n",
        "Unnamed: 40      2 non-null object\n",
        "Unnamed: 41      1 non-null object\n",
        "Unnamed: 42      1 non-null object\n",
        "Unnamed: 43      1 non-null object\n",
        "Unnamed: 44      1 non-null object\n",
        "Unnamed: 45      1 non-null object\n",
        "Unnamed: 46      1 non-null object\n",
        "Unnamed: 47      1 non-null object\n",
        "Unnamed: 48      1 non-null object\n",
        "Unnamed: 49      1 non-null object\n",
        "Unnamed: 50      1 non-null object\n",
        "Unnamed: 51      1 non-null object\n",
        "Unnamed: 52      1 non-null object\n",
        "Unnamed: 53      1 non-null object\n",
        "Unnamed: 54      1 non-null object\n",
        "Unnamed: 55      1 non-null object\n",
        "Unnamed: 56      1 non-null object\n",
        "Unnamed: 57      1 non-null object\n",
        "dtypes: float64(2), int64(4), object(52)"
       ]
      }
     ],
     "prompt_number": 5
    },
    {
     "cell_type": "code",
     "collapsed": false,
     "input": [
      "boats['Post Shares'].corr(boats['Post Likes'])"
     ],
     "language": "python",
     "metadata": {},
     "outputs": [
      {
       "metadata": {},
       "output_type": "pyout",
       "prompt_number": 66,
       "text": [
        "0.82913816355798031"
       ]
      }
     ],
     "prompt_number": 66
    },
    {
     "cell_type": "code",
     "collapsed": false,
     "input": [
      "bs = boats['Post Shares']/boats['Page Fans']\n",
      "bs.hist(bins=100)"
     ],
     "language": "python",
     "metadata": {},
     "outputs": [
      {
       "metadata": {},
       "output_type": "pyout",
       "prompt_number": 6,
       "text": [
        "<matplotlib.axes.AxesSubplot at 0x107fb6290>"
       ]
      },
      {
       "metadata": {},
       "output_type": "display_data",
       "png": "[encoded data removed]",
       "text": [
        "<matplotlib.figure.Figure at 0x107776e10>"
       ]
      }
     ],
     "prompt_number": 6
    },
    {
     "cell_type": "code",
     "collapsed": false,
     "input": [
      "bs.describe()"
     ],
     "language": "python",
     "metadata": {},
     "outputs": [
      {
       "metadata": {},
       "output_type": "pyout",
       "prompt_number": 56,
       "text": [
        "count    11328.000000\n",
        "mean         0.000601\n",
        "std          0.010807\n",
        "min          0.000000\n",
        "25%          0.000000\n",
        "50%          0.000000\n",
        "75%          0.000060\n",
        "max          0.818090\n",
        "dtype: float64"
       ]
      }
     ],
     "prompt_number": 56
    },
    {
     "cell_type": "code",
     "collapsed": false,
     "input": [
      "bl = boats['Post Likes']/boats['Page Fans']\n",
      "bl.hist(bins=100)\n",
      "bl.describe()"
     ],
     "language": "python",
     "metadata": {},
     "outputs": [
      {
       "metadata": {},
       "output_type": "pyout",
       "prompt_number": 7,
       "text": [
        "count    11328.000000\n",
        "mean         0.007250\n",
        "std          0.016134\n",
        "min          0.000000\n",
        "25%          0.000975\n",
        "50%          0.003146\n",
        "75%          0.008563\n",
        "max          0.741992\n",
        "dtype: float64"
       ]
      },
      {
       "metadata": {},
       "output_type": "display_data",
       "png": "[encoded data removed]",
       "text": [
        "<matplotlib.figure.Figure at 0x10a0c32d0>"
       ]
      }
     ],
     "prompt_number": 7
    },
    {
     "cell_type": "code",
     "collapsed": false,
     "input": [
      "bc = boats['Post Comments']/boats['Page Fans']\n",
      "bc.hist(bins=100)\n",
      "bc.describe()"
     ],
     "language": "python",
     "metadata": {},
     "outputs": [
      {
       "metadata": {},
       "output_type": "pyout",
       "prompt_number": 8,
       "text": [
        "count    11328.000000\n",
        "mean         0.000706\n",
        "std          0.003633\n",
        "min          0.000000\n",
        "25%          0.000000\n",
        "50%          0.000030\n",
        "75%          0.000557\n",
        "max          0.277413\n",
        "dtype: float64"
       ]
      },
      {
       "metadata": {},
       "output_type": "display_data",
       "png": "[encoded data removed]",
       "text": [
        "<matplotlib.figure.Figure at 0x10a7c6a90>"
       ]
      }
     ],
     "prompt_number": 8
    },
    {
     "cell_type": "code",
     "collapsed": false,
     "input": [
      "boats['Page Fans'].unique()"
     ],
     "language": "python",
     "metadata": {},
     "outputs": [
      {
       "metadata": {},
       "output_type": "pyout",
       "prompt_number": 50,
       "text": [
        "array([ 16615,  48133,  15943,  40429,  25162, 210927,    912,  10295,\n",
        "         6704,   5129,  15835,  22226,  21976,  27390,   4904,   1493,\n",
        "         3153,   5626,   6782,   5274,   1437,  10393,  87145,   4038,\n",
        "       106979, 120194,  31371,   1725,   2720,   5788,   1107,   2715,\n",
        "        60542,  11000,   2696,   3867,  33581,   3814,   1162,   7361,\n",
        "         1273,   3923,   2141,  17904,   1351,   1626,   3361,    801,\n",
        "         1640,   2434,   1979,   1376,   1675,  11021,   1207,   5528,\n",
        "         3980,   7316,    953,   6916,   2025,   3073,   2120,   6677,\n",
        "         3355,   1695,   8665,   1335,  12940,   1304,    698,  16157,\n",
        "         4169,   1087,   2404,   1556,   4241,   2815,    643,   9088,\n",
        "         8468,   4116,    738,   7611,   5204,  35871])"
       ]
      }
     ],
     "prompt_number": 50
    },
    {
     "cell_type": "code",
     "collapsed": false,
     "input": [],
     "language": "python",
     "metadata": {},
     "outputs": [
      {
       "metadata": {},
       "output_type": "pyout",
       "prompt_number": 53,
       "text": [
        "0     0\n",
        "1     0\n",
        "2     0\n",
        "3     0\n",
        "4     0\n",
        "5     0\n",
        "6     0\n",
        "7     0\n",
        "8     0\n",
        "9     0\n",
        "10    0\n",
        "11    0\n",
        "12    0\n",
        "13    0\n",
        "14    0\n",
        "...\n",
        "11313    0.000000\n",
        "11314    0.000000\n",
        "11315    0.000000\n",
        "11316    0.000000\n",
        "11317    0.000000\n",
        "11318    0.000000\n",
        "11319    0.000000\n",
        "11320    0.000265\n",
        "11321    0.000057\n",
        "11322    0.000123\n",
        "11323    0.128684\n",
        "11324    0.000000\n",
        "11325    0.000000\n",
        "11326    0.000000\n",
        "11327    0.000000\n",
        "Name: Post Shares, Length: 11328, dtype: float64"
       ]
      }
     ],
     "prompt_number": 53
    },
    {
     "cell_type": "code",
     "collapsed": false,
     "input": [
      "golf['Post Comments'].corr(golf['Post Likes'])"
     ],
     "language": "python",
     "metadata": {},
     "outputs": [
      {
       "metadata": {},
       "output_type": "pyout",
       "prompt_number": 68,
       "text": [
        "0.34939931300431587"
       ]
      }
     ],
     "prompt_number": 68
    },
    {
     "cell_type": "code",
     "collapsed": false,
     "input": [
      "gc = golf['Post Comments']/golf['Page Fans']\n",
      "gc.hist(bins=100)\n",
      "gc.describe()"
     ],
     "language": "python",
     "metadata": {},
     "outputs": [
      {
       "metadata": {},
       "output_type": "pyout",
       "prompt_number": 9,
       "text": [
        "count    15719.000000\n",
        "mean         0.000267\n",
        "std          0.001500\n",
        "min          0.000000\n",
        "25%          0.000000\n",
        "50%          0.000038\n",
        "75%          0.000150\n",
        "max          0.059554\n",
        "dtype: float64"
       ]
      },
      {
       "metadata": {},
       "output_type": "display_data",
       "png": "[encoded data removed]",
       "text": [
        "<matplotlib.figure.Figure at 0x10ae24a90>"
       ]
      }
     ],
     "prompt_number": 9
    },
    {
     "cell_type": "code",
     "collapsed": false,
     "input": [
      "gl = golf['Post Likes']/golf['Page Fans']\n",
      "gl.hist(bins=100)\n",
      "gl.describe()"
     ],
     "language": "python",
     "metadata": {},
     "outputs": [
      {
       "metadata": {},
       "output_type": "pyout",
       "prompt_number": 10,
       "text": [
        "count    15719.000000\n",
        "mean         0.004531\n",
        "std          0.007948\n",
        "min          0.000000\n",
        "25%          0.000494\n",
        "50%          0.001795\n",
        "75%          0.005645\n",
        "max          0.298549\n",
        "dtype: float64"
       ]
      },
      {
       "metadata": {},
       "output_type": "display_data",
       "png": "[encoded data removed]",
       "text": [
        "<matplotlib.figure.Figure at 0x10a90ab10>"
       ]
      }
     ],
     "prompt_number": 10
    },
    {
     "cell_type": "code",
     "collapsed": false,
     "input": [
      "gll = gl[gl < 0.05]\n",
      "gll.hist(bins=100)\n",
      "gll.describe()"
     ],
     "language": "python",
     "metadata": {},
     "outputs": [
      {
       "metadata": {},
       "output_type": "pyout",
       "prompt_number": 11,
       "text": [
        "count    15660.000000\n",
        "mean         0.004267\n",
        "std          0.006164\n",
        "min          0.000000\n",
        "25%          0.000487\n",
        "50%          0.001778\n",
        "75%          0.005563\n",
        "max          0.049917\n",
        "dtype: float64"
       ]
      },
      {
       "metadata": {},
       "output_type": "display_data",
       "png": "[encoded data removed]",
       "text": [
        "<matplotlib.figure.Figure at 0x103862cd0>"
       ]
      }
     ],
     "prompt_number": 11
    },
    {
     "cell_type": "code",
     "collapsed": false,
     "input": [
      "gs = golf['Post Shares']/golf['Page Fans']\n",
      "gss = gs[gs < 0.01]\n",
      "gss.hist(bins=100)\n",
      "gs.describe()"
     ],
     "language": "python",
     "metadata": {},
     "outputs": [
      {
       "metadata": {},
       "output_type": "pyout",
       "prompt_number": 12,
       "text": [
        "count    15719.000000\n",
        "mean         0.000339\n",
        "std          0.001367\n",
        "min          0.000000\n",
        "25%          0.000000\n",
        "50%          0.000000\n",
        "75%          0.000203\n",
        "max          0.068837\n",
        "dtype: float64"
       ]
      },
      {
       "metadata": {},
       "output_type": "display_data",
       "png": "[encoded data removed]",
       "text": [
        "<matplotlib.figure.Figure at 0x10ad65f10>"
       ]
      }
     ],
     "prompt_number": 12
    },
    {
     "cell_type": "code",
     "collapsed": false,
     "input": [
      "pizza['Post Shares'].corr(pizza['Post Comments'])"
     ],
     "language": "python",
     "metadata": {},
     "outputs": [
      {
       "metadata": {},
       "output_type": "pyout",
       "prompt_number": 75,
       "text": [
        "0.17898283208835813"
       ]
      }
     ],
     "prompt_number": 75
    },
    {
     "cell_type": "code",
     "collapsed": false,
     "input": [
      "ps = pizza['Post Shares']/pizza['Page Fans']\n",
      "ps.hist(bins=100)\n",
      "ps.describe()"
     ],
     "language": "python",
     "metadata": {},
     "outputs": [
      {
       "metadata": {},
       "output_type": "pyout",
       "prompt_number": 13,
       "text": [
        "count    12149.000000\n",
        "mean         0.000725\n",
        "std          0.007174\n",
        "min          0.000000\n",
        "25%          0.000000\n",
        "50%          0.000000\n",
        "75%          0.000000\n",
        "max          0.136730\n",
        "dtype: float64"
       ]
      },
      {
       "metadata": {},
       "output_type": "display_data",
       "png": "[encoded data removed]",
       "text": [
        "<matplotlib.figure.Figure at 0x10a742450>"
       ]
      }
     ],
     "prompt_number": 13
    },
    {
     "cell_type": "code",
     "collapsed": false,
     "input": [
      "pl = pizza['Post Likes']/pizza['Page Fans']\n",
      "pl.hist(bins=1000)\n",
      "pl.describe()"
     ],
     "language": "python",
     "metadata": {},
     "outputs": [
      {
       "metadata": {},
       "output_type": "pyout",
       "prompt_number": 14,
       "text": [
        "count    12149.000000\n",
        "mean         0.002830\n",
        "std          0.009721\n",
        "min          0.000000\n",
        "25%          0.000176\n",
        "50%          0.000650\n",
        "75%          0.002037\n",
        "max          0.381336\n",
        "dtype: float64"
       ]
      },
      {
       "metadata": {},
       "output_type": "display_data",
       "png": "[encoded data removed]",
       "text": [
        "<matplotlib.figure.Figure at 0x10aa36e90>"
       ]
      }
     ],
     "prompt_number": 14
    },
    {
     "cell_type": "code",
     "collapsed": false,
     "input": [
      "pc = pizza['Post Comments']/pizza['Page Fans']\n",
      "pc.hist(bins=100)\n",
      "pc.describe()"
     ],
     "language": "python",
     "metadata": {},
     "outputs": [
      {
       "metadata": {},
       "output_type": "pyout",
       "prompt_number": 15,
       "text": [
        "count    12149.000000\n",
        "mean         0.000484\n",
        "std          0.003140\n",
        "min          0.000000\n",
        "25%          0.000000\n",
        "50%          0.000018\n",
        "75%          0.000152\n",
        "max          0.125948\n",
        "dtype: float64"
       ]
      },
      {
       "metadata": {},
       "output_type": "display_data",
       "png": "[encoded data removed]",
       "text": [
        "<matplotlib.figure.Figure at 0x10b366d10>"
       ]
      }
     ],
     "prompt_number": 15
    },
    {
     "cell_type": "code",
     "collapsed": false,
     "input": [
      "mm = boats['Post Shares'].max()\n",
      "boats[boats['Post Shares'] == 27143]"
     ],
     "language": "python",
     "metadata": {},
     "outputs": [
      {
       "html": [
        "<div style=\"max-height:1000px;max-width:1500px;overflow:auto;\">\n",
        "<table border=\"1\" class=\"dataframe\">\n",
        "  <thead>\n",
        "    <tr style=\"text-align: right;\">\n",
        "      <th></th>\n",
        "      <th>Page Name</th>\n",
        "      <th>Page Fans</th>\n",
        "      <th>Page URL</th>\n",
        "      <th>Post Date</th>\n",
        "      <th>Post Likes</th>\n",
        "      <th>Post Comments</th>\n",
        "      <th>Post Shares</th>\n",
        "      <th>Raw Score</th>\n",
        "      <th>Post Message</th>\n",
        "      <th>Post Image</th>\n",
        "      <th>Post Link</th>\n",
        "      <th>Unnamed: 11</th>\n",
        "      <th>Unnamed: 12</th>\n",
        "      <th>Unnamed: 13</th>\n",
        "      <th>Unnamed: 14</th>\n",
        "      <th>Unnamed: 15</th>\n",
        "      <th>Unnamed: 16</th>\n",
        "      <th>Unnamed: 17</th>\n",
        "      <th>Unnamed: 18</th>\n",
        "      <th>Unnamed: 19</th>\n",
        "      <th></th>\n",
        "    </tr>\n",
        "  </thead>\n",
        "  <tbody>\n",
        "    <tr>\n",
        "      <th>11323</th>\n",
        "      <td> Fresh off the Boat</td>\n",
        "      <td> 35871</td>\n",
        "      <td> https://www.facebook.com/1443588465873853</td>\n",
        "      <td> 5/13/14 13:00</td>\n",
        "      <td> 26616</td>\n",
        "      <td> 4565</td>\n",
        "      <td> 27143</td>\n",
        "      <td> 777.575061</td>\n",
        "      <td> 10</td>\n",
        "      <td> Just an ordinary family pursuing the American ...</td>\n",
        "      <td> NaN</td>\n",
        "      <td> NaN</td>\n",
        "      <td> NaN</td>\n",
        "      <td> NaN</td>\n",
        "      <td> NaN</td>\n",
        "      <td> NaN</td>\n",
        "      <td> NaN</td>\n",
        "      <td> NaN</td>\n",
        "      <td> NaN</td>\n",
        "      <td> NaN</td>\n",
        "      <td>...</td>\n",
        "    </tr>\n",
        "  </tbody>\n",
        "</table>\n",
        "<p>1 rows \u00d7 58 columns</p>\n",
        "</div>"
       ],
       "metadata": {},
       "output_type": "pyout",
       "prompt_number": 97,
       "text": [
        "                Page Name  Page Fans  \\\n",
        "11323  Fresh off the Boat      35871   \n",
        "\n",
        "                                        Page URL      Post Date  Post Likes  \\\n",
        "11323  https://www.facebook.com/1443588465873853  5/13/14 13:00       26616   \n",
        "\n",
        "       Post Comments  Post Shares   Raw Score  Post Message  \\\n",
        "11323           4565        27143  777.575061            10   \n",
        "\n",
        "                                              Post Image Post Link  \\\n",
        "11323  Just an ordinary family pursuing the American ...       NaN   \n",
        "\n",
        "      Unnamed: 11 Unnamed: 12 Unnamed: 13 Unnamed: 14 Unnamed: 15 Unnamed: 16  \\\n",
        "11323         NaN         NaN         NaN         NaN         NaN         NaN   \n",
        "\n",
        "      Unnamed: 17 Unnamed: 18 Unnamed: 19      \n",
        "11323         NaN         NaN         NaN ...  \n",
        "\n",
        "[1 rows x 58 columns]"
       ]
      }
     ],
     "prompt_number": 97
    },
    {
     "cell_type": "code",
     "collapsed": false,
     "input": [
      "mm"
     ],
     "language": "python",
     "metadata": {},
     "outputs": [
      {
       "metadata": {},
       "output_type": "pyout",
       "prompt_number": 92,
       "text": [
        "27143"
       ]
      }
     ],
     "prompt_number": 92
    },
    {
     "cell_type": "code",
     "collapsed": false,
     "input": [],
     "language": "python",
     "metadata": {},
     "outputs": []
    },
    {
     "cell_type": "code",
     "collapsed": false,
     "input": [
      "mm == 27143"
     ],
     "language": "python",
     "metadata": {},
     "outputs": [
      {
       "metadata": {},
       "output_type": "pyout",
       "prompt_number": 94,
       "text": [
        "True"
       ]
      }
     ],
     "prompt_number": 94
    },
    {
     "cell_type": "code",
     "collapsed": false,
     "input": [
      "l = bl.append([gl,pl])\n",
      "#l.hist(bins = 1000)\n",
      "l[l <0.05].hist(bins = 1000)\n",
      "l.describe()"
     ],
     "language": "python",
     "metadata": {},
     "outputs": [
      {
       "metadata": {},
       "output_type": "pyout",
       "prompt_number": 16,
       "text": [
        "count    39196.000000\n",
        "mean         0.004790\n",
        "std          0.011525\n",
        "min          0.000000\n",
        "25%          0.000385\n",
        "50%          0.001553\n",
        "75%          0.005175\n",
        "max          0.741992\n",
        "dtype: float64"
       ]
      },
      {
       "metadata": {},
       "output_type": "display_data",
       "png": "[encoded data removed]",
       "text": [
        "<matplotlib.figure.Figure at 0x10caf51d0>"
       ]
      }
     ],
     "prompt_number": 16
    },
    {
     "cell_type": "code",
     "collapsed": false,
     "input": [
      "c = bc.append([gc,pc])\n",
      "#c.hist(bins = 1000)\n",
      "c[((c < 0.01) & (c >0))].hist(bins = 1000)\n",
      "c.describe()"
     ],
     "language": "python",
     "metadata": {},
     "outputs": [
      {
       "metadata": {},
       "output_type": "pyout",
       "prompt_number": 17,
       "text": [
        "count    39196.000000\n",
        "mean         0.000461\n",
        "std          0.002794\n",
        "min          0.000000\n",
        "25%          0.000000\n",
        "50%          0.000030\n",
        "75%          0.000215\n",
        "max          0.277413\n",
        "dtype: float64"
       ]
      },
      {
       "metadata": {},
       "output_type": "display_data",
       "png": "[encoded data removed]",
       "text": [
        "<matplotlib.figure.Figure at 0x10c5ba850>"
       ]
      }
     ],
     "prompt_number": 17
    },
    {
     "cell_type": "code",
     "collapsed": false,
     "input": [
      "s = bs.append([gs,ps])\n",
      "#s.hist(bins = 1000)\n",
      "s[ ((s < 0.001) & (s>0))].hist(bins = 1000)\n",
      "s.describe()"
     ],
     "language": "python",
     "metadata": {},
     "outputs": [
      {
       "metadata": {},
       "output_type": "pyout",
       "prompt_number": 18,
       "text": [
        "count    39196.000000\n",
        "mean         0.000534\n",
        "std          0.007105\n",
        "min          0.000000\n",
        "25%          0.000000\n",
        "50%          0.000000\n",
        "75%          0.000056\n",
        "max          0.818090\n",
        "dtype: float64"
       ]
      },
      {
       "metadata": {},
       "output_type": "display_data",
       "png": "[encoded data removed]",
       "text": [
        "<matplotlib.figure.Figure at 0x10d9a5890>"
       ]
      }
     ],
     "prompt_number": 18
    },
    {
     "cell_type": "code",
     "collapsed": false,
     "input": [
      "nl, like_division = np.histogram(l, bins = 10000) \n",
      "nc, comment_division = np.histogram(c, bins = 10000) \n",
      "ns, share_division = np.histogram(s, bins = 10000)"
     ],
     "language": "python",
     "metadata": {},
     "outputs": [],
     "prompt_number": 39
    },
    {
     "cell_type": "code",
     "collapsed": false,
     "input": [
      "str(nl)"
     ],
     "language": "python",
     "metadata": {},
     "outputs": [
      {
       "metadata": {},
       "output_type": "pyout",
       "prompt_number": 42,
       "text": [
        "'[3371 2065 1597 ...,    0    0    1]'"
       ]
      }
     ],
     "prompt_number": 42
    },
    {
     "cell_type": "code",
     "collapsed": false,
     "input": [
      "hila = l.order(ascending = False)\n",
      "hila.head()"
     ],
     "language": "python",
     "metadata": {},
     "outputs": [
      {
       "metadata": {},
       "output_type": "pyout",
       "prompt_number": 22,
       "text": [
        "11323    0.741992\n",
        "10973    0.637269\n",
        "10067    0.381336\n",
        "10962    0.357143\n",
        "2523     0.298549\n",
        "dtype: float64"
       ]
      }
     ],
     "prompt_number": 22
    },
    {
     "cell_type": "code",
     "collapsed": false,
     "input": [
      "Ioan = s[s == 0]\n",
      "len(Ioan)\n",
      "float(len(Ioan))/float(len(s))"
     ],
     "language": "python",
     "metadata": {},
     "outputs": [
      {
       "metadata": {},
       "output_type": "pyout",
       "prompt_number": 27,
       "text": [
        "0.6834625982243085"
       ]
      }
     ],
     "prompt_number": 27
    },
    {
     "cell_type": "code",
     "collapsed": false,
     "input": [],
     "language": "python",
     "metadata": {},
     "outputs": []
    }
   ],
   "metadata": {}
  }
 ]
}