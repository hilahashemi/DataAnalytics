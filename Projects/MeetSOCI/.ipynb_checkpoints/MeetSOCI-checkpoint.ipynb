{
 "metadata": {
  "name": "",
  "signature": "sha256:dc5e2c816e95c69dc798a3d4f8e825d4dcb30e1a94cdbce38ef4060ea9e0bbe6"
 },
 "nbformat": 3,
 "nbformat_minor": 0,
 "worksheets": []
}